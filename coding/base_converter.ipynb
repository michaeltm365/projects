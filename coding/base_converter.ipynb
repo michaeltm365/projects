{
  "nbformat": 4,
  "nbformat_minor": 0,
  "metadata": {
    "colab": {
      "name": "base-converter.ipynb",
      "provenance": [],
      "include_colab_link": true
    },
    "kernelspec": {
      "name": "python3",
      "display_name": "Python 3"
    },
    "language_info": {
      "name": "python"
    }
  },
  "cells": [
    {
      "cell_type": "markdown",
      "metadata": {
        "id": "view-in-github",
        "colab_type": "text"
      },
      "source": [
        "<a href=\"https://colab.research.google.com/github/michaeltm365/python_projects/blob/main/base_converter.ipynb\" target=\"_parent\"><img src=\"https://colab.research.google.com/assets/colab-badge.svg\" alt=\"Open In Colab\"/></a>"
      ]
    },
    {
      "cell_type": "code",
      "source": [
        "import math"
      ],
      "metadata": {
        "id": "AydHmOSuTnvx"
      },
      "execution_count": null,
      "outputs": []
    },
    {
      "cell_type": "code",
      "source": [
        "def convert_from_base(num, base):\n",
        "  # convert from base to decimal\n",
        "  if not isinstance(num, str):\n",
        "    num = str(num)\n",
        "  digits = [int(i) for i in list(num)]\n",
        "  digits.reverse()\n",
        "  output = 0\n",
        "  for i in range(len(digits)):\n",
        "    output += digits[i] * (base ** i)\n",
        "  return output\n",
        "\n",
        "# unit test\n",
        "output = convert_from_base(321, 8)\n",
        "print(output)\n",
        "assert output == (3 * 8**2 + 2*8**1 + 1)\n",
        "\n",
        "output = convert_from_base(1001, 2)\n",
        "print(output)\n",
        "assert output == (1*2**3 + 1)\n"
      ],
      "metadata": {
        "colab": {
          "base_uri": "https://localhost:8080/"
        },
        "id": "sNaOfI8BRpaD",
        "outputId": "a8f8e611-01a6-496e-af68-1a372e079df0"
      },
      "execution_count": null,
      "outputs": [
        {
          "output_type": "stream",
          "name": "stdout",
          "text": [
            "209\n",
            "9\n"
          ]
        }
      ]
    },
    {
      "cell_type": "code",
      "source": [
        "def convert_list_of_digits_to_num(lst, base):\n",
        "  n = len(lst)-1\n",
        "  out = 0\n",
        "  for i in range(n+1):\n",
        "    digit = lst[i] * (base**(n-i))\n",
        "    out += digit\n",
        "  return out\n",
        "\n",
        "assert convert_list_of_digits_to_num([1,2,3], 10) == 123\n"
      ],
      "metadata": {
        "id": "ye-8J04wcNfY"
      },
      "execution_count": null,
      "outputs": []
    },
    {
      "cell_type": "code",
      "source": [
        "def convert_to_base(num, base):\n",
        "  digits = []\n",
        "  while num != 0:\n",
        "    digits.insert(0, num % base)\n",
        "    num = math.floor(num / base)\n",
        "  out = convert_list_of_digits_to_num(digits, base)\n",
        "  return out\n",
        "\n",
        "x1 = convert_to_base(567, 4)\n",
        "x2 = convert_from_base(x1, 4)\n",
        "print(x1, x2)\n",
        "\n",
        "x1 = convert_to_base(13821, 8)\n",
        "x2 = convert_from_base(x1, 8)\n",
        "print(x1, x2)"
      ],
      "metadata": {
        "colab": {
          "base_uri": "https://localhost:8080/"
        },
        "id": "9GiQ2CxnblHh",
        "outputId": "23042645-35f2-4195-b269-725195ec9fce"
      },
      "execution_count": null,
      "outputs": [
        {
          "output_type": "stream",
          "name": "stdout",
          "text": [
            "567 111\n",
            "13821 6161\n"
          ]
        }
      ]
    },
    {
      "cell_type": "code",
      "source": [
        ""
      ],
      "metadata": {
        "id": "U5AyrQvkZ3pD"
      },
      "execution_count": null,
      "outputs": []
    }
  ]
}