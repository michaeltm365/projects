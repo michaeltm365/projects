{
  "nbformat": 4,
  "nbformat_minor": 0,
  "metadata": {
    "colab": {
      "name": "PneumoniaDetection_github.ipynb",
      "provenance": [],
      "collapsed_sections": [
        "VdJhwDjBb1U_",
        "45zKW1NjS4aV"
      ],
      "include_colab_link": true
    },
    "kernelspec": {
      "name": "python3",
      "display_name": "Python 3"
    },
    "accelerator": "GPU"
  },
  "cells": [
    {
      "cell_type": "markdown",
      "metadata": {
        "id": "view-in-github",
        "colab_type": "text"
      },
      "source": [
        "<a href=\"https://colab.research.google.com/github/michaeltm365/python_projects/blob/main/PneumoniaDetection_github.ipynb\" target=\"_parent\"><img src=\"https://colab.research.google.com/assets/colab-badge.svg\" alt=\"Open In Colab\"/></a>"
      ]
    },
    {
      "cell_type": "markdown",
      "metadata": {
        "id": "Nim7KW49HbU5"
      },
      "source": [
        "![](https://storage.googleapis.com/kaggle-competitions/kaggle/10338/logos/header.png)"
      ]
    },
    {
      "cell_type": "markdown",
      "metadata": {
        "id": "fPcvBlSiLXng"
      },
      "source": [
        "In this notebook, we'll try out our model on field data - data outside our normal testing and training data! We'll also learn techniques for data augmentation, creating new \"fake data\" so that our model can generalize more effectively."
      ]
    },
    {
      "cell_type": "markdown",
      "metadata": {
        "id": "Tsa9kzHFh4yU"
      },
      "source": [
        "In this notebook we'll be:\n",
        "1.   Putting our ML models into practice\n",
        "2.   Improving our ML models\n",
        "\n"
      ]
    },
    {
      "cell_type": "code",
      "metadata": {
        "id": "LFWVfZctvmPS",
        "colab": {
          "base_uri": "https://localhost:8080/"
        },
        "outputId": "a2845fa7-a87d-4cff-bab9-bf00d8522925"
      },
      "source": [
        "#@title Run this to download data and prepare our environment! { display-mode: \"form\" }\n",
        "# %tensorflow_version 1.x\n",
        "import random\n",
        "\n",
        "import gdown\n",
        "import zipfile\n",
        "\n",
        "import os\n",
        "import numpy as np\n",
        "import pandas as pd\n",
        "\n",
        "import seaborn as sns\n",
        "import matplotlib.pyplot as plt\n",
        "\n",
        "from sklearn.metrics import accuracy_score, confusion_matrix\n",
        "\n",
        "import tensorflow.keras as keras\n",
        "from keras.models import Sequential\n",
        "from keras.layers import Activation, MaxPooling2D, Dropout, Flatten, Reshape, Dense, Conv2D, GlobalAveragePooling2D\n",
        "from keras.regularizers import l2\n",
        "from keras.wrappers.scikit_learn import KerasClassifier\n",
        "import tensorflow.keras.optimizers as optimizers\n",
        "from keras.callbacks import ModelCheckpoint\n",
        "\n",
        "from keras.applications.vgg16 import VGG16\n",
        "from keras.applications.vgg19 import VGG19\n",
        "from tensorflow.keras.applications.resnet50 import ResNet50\n",
        "from keras.applications.densenet import DenseNet121\n",
        "\n",
        "from imgaug import augmenters \n",
        "def augment(data, augmenter):\n",
        "  if len(data.shape) == 3:\n",
        "    return augmenter.augment_image(data)\n",
        "  if len(data.shape) == 4:\n",
        "    return augmenter.augment_images(data)\n",
        "    \n",
        "def rotate(data, rotate):\n",
        "  fun = augmenters.Affine(rotate = rotate)\n",
        "  return augment(data, fun)\n",
        "\n",
        "def shear(data, shear):\n",
        "  fun = augmenters.Affine(shear = shear)\n",
        "  return augment(data, fun)\n",
        "\n",
        "def scale(data, scale):\n",
        "  fun = augmenters.Affine(scale = scale)\n",
        "  return augment(data, fun)\n",
        "  \n",
        "def flip_left_right(data, prob):\n",
        "  fun = augmenters.Fliplr(p = prob)\n",
        "  return augment(data, fun)\n",
        "\n",
        "def flip_up_down(data, prob):\n",
        "  fun = augmenters.Flipud(p = prob)\n",
        "  return augment(data, fun)\n",
        "\n",
        "def remove_color(data, channel):\n",
        "  new_data = data.copy()\n",
        "  if len(data.shape) == 3:\n",
        "    new_data[:,:,channel] = 0\n",
        "    return new_data\n",
        "  if len(data.shape) == 4:\n",
        "    new_data[:,:,:,channel] = 0\n",
        "    return new_data\n",
        "  \n",
        "class pkg:\n",
        "  #### DOWNLOADING AND LOADING DATA\n",
        "  def get_metadata(metadata_path, which_splits = ['train', 'test']):  \n",
        "    '''returns metadata dataframe which contains columns of:\n",
        "       * index: index of data into numpy data\n",
        "       * class: class of image\n",
        "       * split: which dataset split is this a part of? \n",
        "    '''\n",
        "    metadata = pd.read_csv(metadata_path)\n",
        "    keep_idx = metadata['split'].isin(which_splits)\n",
        "    return metadata[keep_idx]\n",
        "\n",
        "  def get_data_split(split_name, flatten, all_data, metadata, image_shape):\n",
        "    '''\n",
        "    returns images (data), labels from folder of format [image_folder]/[split_name]/[class_name]/\n",
        "    flattens if flatten option is True \n",
        "    '''\n",
        "    sub_df = metadata[metadata['split'].isin([split_name])]\n",
        "    index  = sub_df['index'].values\n",
        "    labels = sub_df['class'].values\n",
        "    data = all_data[index,:]\n",
        "    if flatten:\n",
        "      data = data.reshape([-1, np.product(image_shape)])\n",
        "    return data, labels\n",
        "\n",
        "  def get_train_data(flatten, all_data, metadata, image_shape):\n",
        "    return get_data_split('train', flatten, all_data, metadata, image_shape)\n",
        "\n",
        "  def get_test_data(flatten, all_data, metadata, image_shape):\n",
        "    return get_data_split('test', flatten, all_data, metadata, image_shape)\n",
        "\n",
        "  def get_field_data(flatten, all_data, metadata, image_shape):\n",
        "    field_data, field_labels = get_data_split('field', flatten, all_data, metadata, image_shape)\n",
        "    field_data[:,:,:,2] = field_data[:,:,:,0]\n",
        "    field_data[:,:,:,1] = field_data[:,:,:,0]\n",
        "\n",
        "    #make data messier\n",
        "    rand = random.uniform(-1, 1)\n",
        "    \n",
        "    for i in range(len(field_data)):\n",
        "      image = field_data[i]\n",
        "                            \n",
        "      if abs(rand) < 0.5:\n",
        "        image = rotate(image, rotate = rand * 40)\n",
        "      elif abs(rand) < 0.8:\n",
        "        image = shear(image, shear = rand*40)\n",
        "      field_data[i] = image \n",
        "    return field_data, field_labels\n",
        "\n",
        "class helpers:\n",
        "  #### PLOTTING\n",
        "  def plot_one_image(data, labels = [], index = None, image_shape = [64,64,3]):\n",
        "    '''\n",
        "    if data is a single image, display that image\n",
        "\n",
        "    if data is a 4d stack of images, display that image\n",
        "    '''\n",
        "    num_dims   = len(data.shape)\n",
        "    num_labels = len(labels)\n",
        "\n",
        "    # reshape data if necessary\n",
        "    if num_dims == 1:\n",
        "      data = data.reshape(target_shape)\n",
        "    if num_dims == 2:\n",
        "      data = data.reshape(np.vstack[-1, image_shape])\n",
        "    num_dims   = len(data.shape)\n",
        "\n",
        "    # check if single or multiple images\n",
        "    if num_dims == 3:\n",
        "      if num_labels > 1:\n",
        "        print('Multiple labels does not make sense for single image.')\n",
        "        return\n",
        "\n",
        "      label = labels      \n",
        "      if num_labels == 0:\n",
        "        label = ''\n",
        "      image = data\n",
        "\n",
        "    if num_dims == 4:\n",
        "      image = data[index, :]\n",
        "      label = labels[index]\n",
        "\n",
        "    # plot image of interest\n",
        "    print('Label: %s'%label)\n",
        "    plt.imshow(image)\n",
        "    plt.show()\n",
        "\n",
        "  #### QUERYING AND COMBINING DATA\n",
        "  def get_misclassified_data(data, labels, predictions):\n",
        "    '''\n",
        "    Gets the data and labels that are misclassified in a classification task\n",
        "    Returns:\n",
        "    -missed_data\n",
        "    -missed_labels\n",
        "    -predicted_labels (corresponding to missed_labels)\n",
        "    -missed_index (indices of items in original dataset)\n",
        "    '''\n",
        "    missed_index     = np.where(np.abs(predictions.squeeze() - labels.squeeze()) > 0)[0]\n",
        "    missed_labels    = labels[missed_index]\n",
        "    missed_data      = data[missed_index,:]\n",
        "    predicted_labels = predictions[missed_index]\n",
        "    return missed_data, missed_labels, predicted_labels, missed_index\n",
        "\n",
        "  def combine_data(data_list, labels_list):\n",
        "    return np.concatenate(data_list, axis = 0), np.concatenate(labels_list, axis = 0)\n",
        "\n",
        "  def plot_acc(history, ax = None, xlabel = 'Epoch #'):\n",
        "    # i'm sorry for this function's code. i am so sorry. \n",
        "    history = history.history\n",
        "    history.update({'epoch':list(range(len(history['val_accuracy'])))})\n",
        "    history = pd.DataFrame.from_dict(history)\n",
        "\n",
        "    best_epoch = history.sort_values(by = 'val_accuracy', ascending = False).iloc[0]['epoch']\n",
        "\n",
        "    if not ax:\n",
        "      f, ax = plt.subplots(1,1)\n",
        "    sns.lineplot(x = 'epoch', y = 'val_accuracy', data = history, label = 'Validation', ax = ax)\n",
        "    sns.lineplot(x = 'epoch', y = 'accuracy', data = history, label = 'Training', ax = ax)\n",
        "    ax.axhline(0.5, linestyle = '--',color='red', label = 'Chance')\n",
        "    ax.axvline(x = best_epoch, linestyle = '--', color = 'green', label = 'Best Epoch')  \n",
        "    ax.legend(loc = 4)    \n",
        "    ax.set_ylim([0.4, 1])\n",
        "\n",
        "    ax.set_xlabel(xlabel)\n",
        "    ax.set_ylabel('Accuracy (Fraction)')\n",
        "    \n",
        "    plt.show()\n",
        "\n",
        "class models:\n",
        "  def DenseClassifier(hidden_layer_sizes, nn_params):\n",
        "    model = Sequential()\n",
        "    model.add(Flatten(input_shape = nn_params['input_shape']))\n",
        "    model.add(Dropout(0.5))\n",
        "\n",
        "    for ilayer in hidden_layer_sizes:\n",
        "      model.add(Dense(ilayer, activation = 'relu'))\n",
        "      model.add(Dropout(0.5))\n",
        "    \n",
        "    model.add(Dense(units = nn_params['output_neurons'], activation = nn_params['output_activation']))\n",
        "    model.compile(loss=nn_params['loss'],\n",
        "                  optimizer=keras.optimizers.SGD(learning_rate=1e-4, momentum=0.95),\n",
        "                  metrics=['accuracy'])\n",
        "    return model\n",
        "\n",
        "  def CNNClassifier(num_hidden_layers, nn_params):\n",
        "    model = Sequential()\n",
        "\n",
        "    model.add(Conv2D(32, (3, 3), input_shape=nn_params['input_shape'], padding = 'same', kernel_regularizer=l2(0.01), bias_regularizer=l2(0.01)))\n",
        "    model.add(Activation('relu'))\n",
        "    model.add(MaxPooling2D(pool_size=(2, 2)))\n",
        "\n",
        "    for i in range(num_hidden_layers-1):\n",
        "        model.add(Conv2D(64, (3, 3), padding = 'same', kernel_regularizer=l2(0.01), bias_regularizer=l2(0.01)))\n",
        "        model.add(Activation('relu'))\n",
        "        model.add(MaxPooling2D(pool_size=(2, 2)))\n",
        "\n",
        "    model.add(Flatten()) \n",
        "\n",
        "    model.add(Dense(units = 128, activation = 'relu'))\n",
        "    model.add(Dropout(0.5))\n",
        "    model.add(Dense(units = 64, activation = 'relu', kernel_regularizer=l2(0.01), bias_regularizer=l2(0.01)))\n",
        "    model.add(Dropout(0.5))\n",
        "\n",
        "    model.add(Dense(units = nn_params['output_neurons'], activation = nn_params['output_activation']))\n",
        "\n",
        "    # initiate RMSprop optimizer\n",
        "    opt = keras.optimizers.RMSprop(learning_rate=1e-5, decay=1e-6)\n",
        "\n",
        "    # Let's train the model using RMSprop\n",
        "    model.compile(loss=nn_params['loss'],\n",
        "                  optimizer=opt,\n",
        "                  metrics=['accuracy'])    \n",
        "    return model\n",
        "\n",
        "  def TransferClassifier(name, nn_params, trainable = True):\n",
        "    expert_dict = {'VGG16': VGG16, \n",
        "                   'VGG19': VGG19,\n",
        "                   'ResNet50':ResNet50,\n",
        "                   'DenseNet121':DenseNet121}\n",
        "\n",
        "    expert_conv = expert_dict[name](weights = 'imagenet', \n",
        "                                              include_top = False, \n",
        "                                              input_shape = nn_params['input_shape'])\n",
        "    for layer in expert_conv.layers:\n",
        "      layer.trainable = trainable\n",
        "      \n",
        "    expert_model = Sequential()\n",
        "    expert_model.add(expert_conv)\n",
        "    expert_model.add(GlobalAveragePooling2D())\n",
        "\n",
        "    expert_model.add(Dense(128, activation = 'relu'))\n",
        "    expert_model.add(Dropout(0.5))\n",
        "\n",
        "    expert_model.add(Dense(64, activation = 'relu'))\n",
        "    expert_model.add(Dropout(0.5))\n",
        "\n",
        "    expert_model.add(Dense(nn_params['output_neurons'], activation = nn_params['output_activation']))\n",
        "\n",
        "    expert_model.compile(loss = nn_params['loss'], \n",
        "                  optimizer = keras.optimizers.SGD(learning_rate=1e-4, momentum=0.9), \n",
        "                  metrics=['accuracy'])\n",
        "\n",
        "    return expert_model\n",
        "\n",
        "### defining project variables\n",
        "# file variables\n",
        "metadata_url         = \"https://storage.googleapis.com/inspirit-ai-data-bucket-1/Data/AI%20Scholars/Sessions%206%20-%2010%20(Projects)/Project%20-%20(Healthcare%20A)%20Pneumonia/metadata.csv\"\n",
        "image_data_url       = 'https://storage.googleapis.com/inspirit-ai-data-bucket-1/Data/AI%20Scholars/Sessions%206%20-%2010%20(Projects)/Project%20-%20(Healthcare%20A)%20Pneumonia/image_data.npy'\n",
        "image_data_path      = './image_data.npy'\n",
        "metadata_path        = './metadata.csv'\n",
        "image_shape          = (64, 64, 3)\n",
        "\n",
        "# neural net parameters\n",
        "nn_params = {}\n",
        "nn_params['input_shape']       = image_shape\n",
        "nn_params['output_neurons']    = 1\n",
        "nn_params['loss']              = 'binary_crossentropy'\n",
        "nn_params['output_activation'] = 'sigmoid'\n",
        "\n",
        "###\n",
        "# gdown.download(image_data_url, './image_data.npy', True)\n",
        "# gdown.download(metadata_url, './metadata.csv', True)\n",
        "!wget \"https://storage.googleapis.com/inspirit-ai-data-bucket-1/Data/AI%20Scholars/Sessions%206%20-%2010%20(Projects)/Project%20-%20(Healthcare%20A)%20Pneumonia/metadata.csv\"\n",
        "!wget \"https://storage.googleapis.com/inspirit-ai-data-bucket-1/Data/AI%20Scholars/Sessions%206%20-%2010%20(Projects)/Project%20-%20(Healthcare%20A)%20Pneumonia/image_data.npy\"\n",
        "\n",
        "\n",
        "### pre-loading all data of interest\n",
        "_all_data = np.load('image_data.npy')\n",
        "_metadata = pkg.get_metadata(metadata_path, ['train','test','field'])\n",
        "\n",
        "### preparing definitions\n",
        "# downloading and loading data\n",
        "get_data_split = pkg.get_data_split\n",
        "get_metadata    = lambda :                 pkg.get_metadata(metadata_path, ['train','test'])\n",
        "get_train_data  = lambda flatten = False : pkg.get_train_data(flatten = flatten, all_data = _all_data, metadata = _metadata, image_shape = image_shape)\n",
        "get_test_data   = lambda flatten = False : pkg.get_test_data(flatten = flatten, all_data = _all_data, metadata = _metadata, image_shape = image_shape)\n",
        "get_field_data  = lambda flatten = False : pkg.get_field_data(flatten = flatten, all_data = _all_data, metadata = _metadata, image_shape = image_shape)\n",
        "\n",
        "# plotting\n",
        "plot_one_image = lambda data, labels = [], index = None: helpers.plot_one_image(data = data, labels = labels, index = index, image_shape = image_shape);\n",
        "plot_acc       = lambda history: helpers.plot_acc(history)\n",
        "\n",
        "# querying and combining data\n",
        "get_misclassified_data = helpers.get_misclassified_data;\n",
        "combine_data           = helpers.combine_data;\n",
        "\n",
        "# models with input parameters\n",
        "DenseClassifier     = lambda hidden_layer_sizes: models.DenseClassifier(hidden_layer_sizes = hidden_layer_sizes, nn_params = nn_params);\n",
        "CNNClassifier       = lambda num_hidden_layers: models.CNNClassifier(num_hidden_layers, nn_params = nn_params);\n",
        "TransferClassifier  = lambda name: models.TransferClassifier(name = name, nn_params = nn_params);\n",
        "\n",
        "monitor = ModelCheckpoint('./model.h5', monitor='val_accuracy', verbose=0, save_best_only=True, save_weights_only=False, mode='auto', save_freq='epoch')"
      ],
      "execution_count": null,
      "outputs": [
        {
          "output_type": "stream",
          "name": "stdout",
          "text": [
            "--2022-03-13 20:34:18--  https://storage.googleapis.com/inspirit-ai-data-bucket-1/Data/AI%20Scholars/Sessions%206%20-%2010%20(Projects)/Project%20-%20(Healthcare%20A)%20Pneumonia/metadata.csv\n",
            "Resolving storage.googleapis.com (storage.googleapis.com)... 108.177.125.128, 142.250.157.128, 142.251.8.128, ...\n",
            "Connecting to storage.googleapis.com (storage.googleapis.com)|108.177.125.128|:443... connected.\n",
            "HTTP request sent, awaiting response... 200 OK\n",
            "Length: 40508 (40K) [text/csv]\n",
            "Saving to: ‘metadata.csv’\n",
            "\n",
            "\rmetadata.csv          0%[                    ]       0  --.-KB/s               \rmetadata.csv        100%[===================>]  39.56K  --.-KB/s    in 0.001s  \n",
            "\n",
            "2022-03-13 20:34:18 (67.0 MB/s) - ‘metadata.csv’ saved [40508/40508]\n",
            "\n",
            "--2022-03-13 20:34:18--  https://storage.googleapis.com/inspirit-ai-data-bucket-1/Data/AI%20Scholars/Sessions%206%20-%2010%20(Projects)/Project%20-%20(Healthcare%20A)%20Pneumonia/image_data.npy\n",
            "Resolving storage.googleapis.com (storage.googleapis.com)... 108.177.125.128, 142.250.157.128, 142.251.8.128, ...\n",
            "Connecting to storage.googleapis.com (storage.googleapis.com)|108.177.125.128|:443... connected.\n",
            "HTTP request sent, awaiting response... 200 OK\n",
            "Length: 137625728 (131M) [application/octet-stream]\n",
            "Saving to: ‘image_data.npy’\n",
            "\n",
            "image_data.npy      100%[===================>] 131.25M  59.0MB/s    in 2.2s    \n",
            "\n",
            "2022-03-13 20:34:21 (59.0 MB/s) - ‘image_data.npy’ saved [137625728/137625728]\n",
            "\n"
          ]
        }
      ]
    },
    {
      "cell_type": "markdown",
      "metadata": {
        "id": "wuUfPXfZNf7w"
      },
      "source": [
        "# Milestone 1: Putting our model into practice"
      ]
    },
    {
      "cell_type": "markdown",
      "metadata": {
        "id": "kK4kEOlrNkLh"
      },
      "source": [
        "## Activity 1a: Testing on Field Data\n",
        "#### While your models may have done well on your original training and validation data, deploying the model on \"field\" data can present different challenges. Field data is data that is different from the one where you built your model. For e.g. images obtained from a different x-ray machine."
      ]
    },
    {
      "cell_type": "markdown",
      "metadata": {
        "id": "JXbX8EwYNn5i"
      },
      "source": [
        "### Exercise (Coding)"
      ]
    },
    {
      "cell_type": "markdown",
      "metadata": {
        "id": "9OcX3HejNrjJ"
      },
      "source": [
        "Yesterday we worked with CNNs, which we saw perform much better than multi-layer perceptrons on imaging data. \n",
        "\n",
        "Below, please **re-train a 2-layer CNN and plot its accuracy over time!** (You can use all the functions from yesterday's code.) You can choose the number of epochs based on the graph."
      ]
    },
    {
      "cell_type": "code",
      "metadata": {
        "id": "lLos8L1KnCe3",
        "colab": {
          "base_uri": "https://localhost:8080/"
        },
        "outputId": "0e4d849f-7d02-407a-aea1-74826171719c"
      },
      "source": [
        "train_data, train_labels = get_train_data()\n",
        "test_data, test_labels = get_test_data()\n",
        "\n",
        "### YOUR CODE HERE\n",
        "cnn = CNNClassifier(num_hidden_layers = 2)\n",
        "x = cnn.fit(train_data, train_labels, epochs = 100, validation_data = (test_data, test_labels), shuffle = True, callbacks = [monitor])\n",
        "print(x)\n",
        "### END CODE"
      ],
      "execution_count": null,
      "outputs": [
        {
          "output_type": "stream",
          "name": "stdout",
          "text": [
            "Epoch 1/100\n",
            "63/63 [==============================] - 3s 23ms/step - loss: 2.0219 - accuracy: 0.5580 - val_loss: 2.0078 - val_accuracy: 0.7075\n",
            "Epoch 2/100\n",
            "63/63 [==============================] - 1s 16ms/step - loss: 1.9922 - accuracy: 0.5970 - val_loss: 1.9830 - val_accuracy: 0.6850\n",
            "Epoch 3/100\n",
            "63/63 [==============================] - 1s 18ms/step - loss: 1.9668 - accuracy: 0.6400 - val_loss: 1.9560 - val_accuracy: 0.7450\n",
            "Epoch 4/100\n",
            "63/63 [==============================] - 1s 15ms/step - loss: 1.9365 - accuracy: 0.6800 - val_loss: 1.9318 - val_accuracy: 0.7250\n",
            "Epoch 5/100\n",
            "63/63 [==============================] - 1s 15ms/step - loss: 1.9065 - accuracy: 0.7230 - val_loss: 1.9066 - val_accuracy: 0.7275\n",
            "Epoch 6/100\n",
            "63/63 [==============================] - 1s 16ms/step - loss: 1.8775 - accuracy: 0.7295 - val_loss: 1.8733 - val_accuracy: 0.7800\n",
            "Epoch 7/100\n",
            "63/63 [==============================] - 1s 16ms/step - loss: 1.8525 - accuracy: 0.7545 - val_loss: 1.8465 - val_accuracy: 0.7775\n",
            "Epoch 8/100\n",
            "63/63 [==============================] - 1s 15ms/step - loss: 1.8181 - accuracy: 0.7765 - val_loss: 1.8220 - val_accuracy: 0.7525\n",
            "Epoch 9/100\n",
            "63/63 [==============================] - 1s 16ms/step - loss: 1.7913 - accuracy: 0.7790 - val_loss: 1.7916 - val_accuracy: 0.7850\n",
            "Epoch 10/100\n",
            "63/63 [==============================] - 1s 15ms/step - loss: 1.7586 - accuracy: 0.7940 - val_loss: 1.7670 - val_accuracy: 0.7775\n",
            "Epoch 11/100\n",
            "63/63 [==============================] - 1s 17ms/step - loss: 1.7373 - accuracy: 0.7900 - val_loss: 1.7342 - val_accuracy: 0.8375\n",
            "Epoch 12/100\n",
            "63/63 [==============================] - 1s 16ms/step - loss: 1.7086 - accuracy: 0.8240 - val_loss: 1.7052 - val_accuracy: 0.8450\n",
            "Epoch 13/100\n",
            "63/63 [==============================] - 1s 15ms/step - loss: 1.6813 - accuracy: 0.8175 - val_loss: 1.6808 - val_accuracy: 0.8300\n",
            "Epoch 14/100\n",
            "63/63 [==============================] - 1s 15ms/step - loss: 1.6491 - accuracy: 0.8275 - val_loss: 1.6756 - val_accuracy: 0.7800\n",
            "Epoch 15/100\n",
            "63/63 [==============================] - 1s 16ms/step - loss: 1.6277 - accuracy: 0.8350 - val_loss: 1.6403 - val_accuracy: 0.8075\n",
            "Epoch 16/100\n",
            "63/63 [==============================] - 1s 18ms/step - loss: 1.6051 - accuracy: 0.8405 - val_loss: 1.6052 - val_accuracy: 0.8625\n",
            "Epoch 17/100\n",
            "63/63 [==============================] - 1s 15ms/step - loss: 1.5753 - accuracy: 0.8515 - val_loss: 1.6058 - val_accuracy: 0.7925\n",
            "Epoch 18/100\n",
            "63/63 [==============================] - 1s 15ms/step - loss: 1.5590 - accuracy: 0.8485 - val_loss: 1.5691 - val_accuracy: 0.8325\n",
            "Epoch 19/100\n",
            "63/63 [==============================] - 1s 15ms/step - loss: 1.5425 - accuracy: 0.8555 - val_loss: 1.5470 - val_accuracy: 0.8425\n",
            "Epoch 20/100\n",
            "63/63 [==============================] - 1s 15ms/step - loss: 1.5073 - accuracy: 0.8625 - val_loss: 1.5300 - val_accuracy: 0.8300\n",
            "Epoch 21/100\n",
            "63/63 [==============================] - 1s 15ms/step - loss: 1.4840 - accuracy: 0.8615 - val_loss: 1.5188 - val_accuracy: 0.8325\n",
            "Epoch 22/100\n",
            "63/63 [==============================] - 1s 17ms/step - loss: 1.4741 - accuracy: 0.8665 - val_loss: 1.4874 - val_accuracy: 0.8600\n",
            "Epoch 23/100\n",
            "63/63 [==============================] - 1s 15ms/step - loss: 1.4546 - accuracy: 0.8770 - val_loss: 1.4772 - val_accuracy: 0.8525\n",
            "Epoch 24/100\n",
            "63/63 [==============================] - 1s 15ms/step - loss: 1.4245 - accuracy: 0.8750 - val_loss: 1.4535 - val_accuracy: 0.8625\n",
            "Epoch 25/100\n",
            "63/63 [==============================] - 1s 15ms/step - loss: 1.4154 - accuracy: 0.8830 - val_loss: 1.4444 - val_accuracy: 0.8500\n",
            "Epoch 26/100\n",
            "63/63 [==============================] - 1s 16ms/step - loss: 1.3873 - accuracy: 0.8845 - val_loss: 1.4128 - val_accuracy: 0.8675\n",
            "Epoch 27/100\n",
            "63/63 [==============================] - 1s 16ms/step - loss: 1.3759 - accuracy: 0.8830 - val_loss: 1.4021 - val_accuracy: 0.8700\n",
            "Epoch 28/100\n",
            "63/63 [==============================] - 1s 16ms/step - loss: 1.3625 - accuracy: 0.8785 - val_loss: 1.3931 - val_accuracy: 0.8725\n",
            "Epoch 29/100\n",
            "63/63 [==============================] - 1s 18ms/step - loss: 1.3379 - accuracy: 0.8890 - val_loss: 1.3817 - val_accuracy: 0.8750\n",
            "Epoch 30/100\n",
            "63/63 [==============================] - 1s 17ms/step - loss: 1.3304 - accuracy: 0.8840 - val_loss: 1.3759 - val_accuracy: 0.8600\n",
            "Epoch 31/100\n",
            "63/63 [==============================] - 1s 16ms/step - loss: 1.3075 - accuracy: 0.8895 - val_loss: 1.3551 - val_accuracy: 0.8725\n",
            "Epoch 32/100\n",
            "63/63 [==============================] - 1s 18ms/step - loss: 1.2957 - accuracy: 0.9010 - val_loss: 1.3354 - val_accuracy: 0.8825\n",
            "Epoch 33/100\n",
            "63/63 [==============================] - 1s 16ms/step - loss: 1.2836 - accuracy: 0.8995 - val_loss: 1.3874 - val_accuracy: 0.8050\n",
            "Epoch 34/100\n",
            "63/63 [==============================] - 1s 15ms/step - loss: 1.2716 - accuracy: 0.8990 - val_loss: 1.3503 - val_accuracy: 0.8325\n",
            "Epoch 35/100\n",
            "63/63 [==============================] - 1s 16ms/step - loss: 1.2377 - accuracy: 0.9135 - val_loss: 1.3249 - val_accuracy: 0.8475\n",
            "Epoch 36/100\n",
            "63/63 [==============================] - 1s 16ms/step - loss: 1.2290 - accuracy: 0.9050 - val_loss: 1.3260 - val_accuracy: 0.8375\n",
            "Epoch 37/100\n",
            "63/63 [==============================] - 1s 15ms/step - loss: 1.2259 - accuracy: 0.9065 - val_loss: 1.2905 - val_accuracy: 0.8750\n",
            "Epoch 38/100\n",
            "63/63 [==============================] - 1s 16ms/step - loss: 1.2064 - accuracy: 0.9105 - val_loss: 1.3260 - val_accuracy: 0.8225\n",
            "Epoch 39/100\n",
            "63/63 [==============================] - 1s 16ms/step - loss: 1.1886 - accuracy: 0.9135 - val_loss: 1.2782 - val_accuracy: 0.8650\n",
            "Epoch 40/100\n",
            "63/63 [==============================] - 1s 16ms/step - loss: 1.1782 - accuracy: 0.9175 - val_loss: 1.2429 - val_accuracy: 0.8800\n",
            "Epoch 41/100\n",
            "63/63 [==============================] - 1s 16ms/step - loss: 1.1680 - accuracy: 0.9160 - val_loss: 1.2592 - val_accuracy: 0.8650\n",
            "Epoch 42/100\n",
            "63/63 [==============================] - 1s 16ms/step - loss: 1.1524 - accuracy: 0.9240 - val_loss: 1.2192 - val_accuracy: 0.8825\n",
            "Epoch 43/100\n",
            "63/63 [==============================] - 1s 15ms/step - loss: 1.1411 - accuracy: 0.9205 - val_loss: 1.2703 - val_accuracy: 0.8300\n",
            "Epoch 44/100\n",
            "63/63 [==============================] - 1s 16ms/step - loss: 1.1264 - accuracy: 0.9230 - val_loss: 1.2785 - val_accuracy: 0.8125\n",
            "Epoch 45/100\n",
            "63/63 [==============================] - 1s 15ms/step - loss: 1.1180 - accuracy: 0.9200 - val_loss: 1.2736 - val_accuracy: 0.8100\n",
            "Epoch 46/100\n",
            "63/63 [==============================] - 1s 17ms/step - loss: 1.1095 - accuracy: 0.9210 - val_loss: 1.2408 - val_accuracy: 0.8325\n",
            "Epoch 47/100\n",
            "63/63 [==============================] - 1s 15ms/step - loss: 1.1007 - accuracy: 0.9250 - val_loss: 1.1989 - val_accuracy: 0.8750\n",
            "Epoch 48/100\n",
            "63/63 [==============================] - 1s 15ms/step - loss: 1.0855 - accuracy: 0.9220 - val_loss: 1.2321 - val_accuracy: 0.8275\n",
            "Epoch 49/100\n",
            "63/63 [==============================] - 1s 15ms/step - loss: 1.0740 - accuracy: 0.9285 - val_loss: 1.1762 - val_accuracy: 0.8775\n",
            "Epoch 50/100\n",
            "63/63 [==============================] - 1s 15ms/step - loss: 1.0620 - accuracy: 0.9345 - val_loss: 1.2059 - val_accuracy: 0.8325\n",
            "Epoch 51/100\n",
            "63/63 [==============================] - 1s 16ms/step - loss: 1.0508 - accuracy: 0.9330 - val_loss: 1.2430 - val_accuracy: 0.8075\n",
            "Epoch 52/100\n",
            "63/63 [==============================] - 1s 15ms/step - loss: 1.0435 - accuracy: 0.9325 - val_loss: 1.2391 - val_accuracy: 0.8050\n",
            "Epoch 53/100\n",
            "63/63 [==============================] - 1s 16ms/step - loss: 1.0313 - accuracy: 0.9310 - val_loss: 1.1832 - val_accuracy: 0.8350\n",
            "Epoch 54/100\n",
            "63/63 [==============================] - 1s 15ms/step - loss: 1.0287 - accuracy: 0.9290 - val_loss: 1.2346 - val_accuracy: 0.8050\n",
            "Epoch 55/100\n",
            "63/63 [==============================] - 1s 15ms/step - loss: 1.0135 - accuracy: 0.9305 - val_loss: 1.1834 - val_accuracy: 0.8300\n",
            "Epoch 56/100\n",
            "63/63 [==============================] - 1s 15ms/step - loss: 1.0101 - accuracy: 0.9350 - val_loss: 1.2258 - val_accuracy: 0.7950\n",
            "Epoch 57/100\n",
            "63/63 [==============================] - 1s 15ms/step - loss: 0.9976 - accuracy: 0.9370 - val_loss: 1.1467 - val_accuracy: 0.8425\n",
            "Epoch 58/100\n",
            "63/63 [==============================] - 1s 15ms/step - loss: 0.9856 - accuracy: 0.9370 - val_loss: 1.1626 - val_accuracy: 0.8300\n",
            "Epoch 59/100\n",
            "63/63 [==============================] - 1s 16ms/step - loss: 0.9776 - accuracy: 0.9420 - val_loss: 1.1373 - val_accuracy: 0.8425\n",
            "Epoch 60/100\n",
            "63/63 [==============================] - 1s 17ms/step - loss: 0.9713 - accuracy: 0.9385 - val_loss: 1.2686 - val_accuracy: 0.7775\n",
            "Epoch 61/100\n",
            "63/63 [==============================] - 1s 15ms/step - loss: 0.9489 - accuracy: 0.9455 - val_loss: 1.0779 - val_accuracy: 0.8575\n",
            "Epoch 62/100\n",
            "63/63 [==============================] - 1s 17ms/step - loss: 0.9493 - accuracy: 0.9455 - val_loss: 1.1710 - val_accuracy: 0.8100\n",
            "Epoch 63/100\n",
            "63/63 [==============================] - 1s 15ms/step - loss: 0.9426 - accuracy: 0.9405 - val_loss: 1.2216 - val_accuracy: 0.7875\n",
            "Epoch 64/100\n",
            "63/63 [==============================] - 1s 15ms/step - loss: 0.9238 - accuracy: 0.9445 - val_loss: 1.1097 - val_accuracy: 0.8375\n",
            "Epoch 65/100\n",
            "63/63 [==============================] - 1s 15ms/step - loss: 0.9241 - accuracy: 0.9475 - val_loss: 1.1244 - val_accuracy: 0.8200\n",
            "Epoch 66/100\n",
            "63/63 [==============================] - 1s 15ms/step - loss: 0.9198 - accuracy: 0.9425 - val_loss: 1.2043 - val_accuracy: 0.7950\n",
            "Epoch 67/100\n",
            "63/63 [==============================] - 1s 15ms/step - loss: 0.9015 - accuracy: 0.9440 - val_loss: 1.1176 - val_accuracy: 0.8175\n",
            "Epoch 68/100\n",
            "63/63 [==============================] - 1s 15ms/step - loss: 0.8968 - accuracy: 0.9455 - val_loss: 1.2146 - val_accuracy: 0.7850\n",
            "Epoch 69/100\n",
            "63/63 [==============================] - 1s 17ms/step - loss: 0.8850 - accuracy: 0.9415 - val_loss: 1.2801 - val_accuracy: 0.7575\n",
            "Epoch 70/100\n",
            "63/63 [==============================] - 1s 15ms/step - loss: 0.8788 - accuracy: 0.9495 - val_loss: 1.1143 - val_accuracy: 0.8150\n",
            "Epoch 71/100\n",
            "63/63 [==============================] - 1s 16ms/step - loss: 0.8702 - accuracy: 0.9485 - val_loss: 1.1294 - val_accuracy: 0.8075\n",
            "Epoch 72/100\n",
            "63/63 [==============================] - 1s 15ms/step - loss: 0.8618 - accuracy: 0.9455 - val_loss: 1.1876 - val_accuracy: 0.7875\n",
            "Epoch 73/100\n",
            "63/63 [==============================] - 1s 15ms/step - loss: 0.8572 - accuracy: 0.9525 - val_loss: 1.1667 - val_accuracy: 0.7950\n",
            "Epoch 74/100\n",
            "63/63 [==============================] - 1s 15ms/step - loss: 0.8635 - accuracy: 0.9475 - val_loss: 1.1035 - val_accuracy: 0.8125\n",
            "Epoch 75/100\n",
            "63/63 [==============================] - 1s 17ms/step - loss: 0.8535 - accuracy: 0.9480 - val_loss: 1.0971 - val_accuracy: 0.8100\n",
            "Epoch 76/100\n",
            "63/63 [==============================] - 1s 15ms/step - loss: 0.8365 - accuracy: 0.9565 - val_loss: 1.1015 - val_accuracy: 0.8100\n",
            "Epoch 77/100\n",
            "63/63 [==============================] - 1s 16ms/step - loss: 0.8360 - accuracy: 0.9510 - val_loss: 1.2489 - val_accuracy: 0.7550\n",
            "Epoch 78/100\n",
            "63/63 [==============================] - 1s 16ms/step - loss: 0.8340 - accuracy: 0.9505 - val_loss: 1.1160 - val_accuracy: 0.8000\n",
            "Epoch 79/100\n",
            "63/63 [==============================] - 1s 17ms/step - loss: 0.8176 - accuracy: 0.9520 - val_loss: 1.2238 - val_accuracy: 0.7625\n",
            "Epoch 80/100\n",
            "63/63 [==============================] - 1s 15ms/step - loss: 0.8119 - accuracy: 0.9510 - val_loss: 1.1710 - val_accuracy: 0.7725\n",
            "Epoch 81/100\n",
            "63/63 [==============================] - 1s 15ms/step - loss: 0.8092 - accuracy: 0.9485 - val_loss: 1.1952 - val_accuracy: 0.7700\n",
            "Epoch 82/100\n",
            "63/63 [==============================] - 1s 17ms/step - loss: 0.7966 - accuracy: 0.9560 - val_loss: 1.1886 - val_accuracy: 0.7700\n",
            "Epoch 83/100\n",
            "63/63 [==============================] - 1s 16ms/step - loss: 0.7957 - accuracy: 0.9535 - val_loss: 1.1598 - val_accuracy: 0.7825\n",
            "Epoch 84/100\n",
            "63/63 [==============================] - 1s 15ms/step - loss: 0.7941 - accuracy: 0.9495 - val_loss: 1.2190 - val_accuracy: 0.7550\n",
            "Epoch 85/100\n",
            "63/63 [==============================] - 1s 15ms/step - loss: 0.7864 - accuracy: 0.9495 - val_loss: 1.0367 - val_accuracy: 0.8150\n",
            "Epoch 86/100\n",
            "63/63 [==============================] - 1s 15ms/step - loss: 0.7700 - accuracy: 0.9550 - val_loss: 1.1368 - val_accuracy: 0.7875\n",
            "Epoch 87/100\n",
            "63/63 [==============================] - 1s 15ms/step - loss: 0.7671 - accuracy: 0.9550 - val_loss: 1.0762 - val_accuracy: 0.8050\n",
            "Epoch 88/100\n",
            "63/63 [==============================] - 1s 15ms/step - loss: 0.7659 - accuracy: 0.9570 - val_loss: 1.2034 - val_accuracy: 0.7600\n",
            "Epoch 89/100\n",
            "63/63 [==============================] - 1s 17ms/step - loss: 0.7622 - accuracy: 0.9510 - val_loss: 1.1080 - val_accuracy: 0.7875\n",
            "Epoch 90/100\n",
            "63/63 [==============================] - 1s 15ms/step - loss: 0.7587 - accuracy: 0.9545 - val_loss: 1.2218 - val_accuracy: 0.7500\n",
            "Epoch 91/100\n",
            "63/63 [==============================] - 1s 17ms/step - loss: 0.7488 - accuracy: 0.9570 - val_loss: 1.1673 - val_accuracy: 0.7625\n",
            "Epoch 92/100\n",
            "63/63 [==============================] - 1s 16ms/step - loss: 0.7421 - accuracy: 0.9555 - val_loss: 0.9927 - val_accuracy: 0.8225\n",
            "Epoch 93/100\n",
            "63/63 [==============================] - 1s 17ms/step - loss: 0.7413 - accuracy: 0.9505 - val_loss: 1.1462 - val_accuracy: 0.7675\n",
            "Epoch 94/100\n",
            "63/63 [==============================] - 1s 17ms/step - loss: 0.7275 - accuracy: 0.9610 - val_loss: 1.0183 - val_accuracy: 0.8125\n",
            "Epoch 95/100\n",
            "63/63 [==============================] - 1s 16ms/step - loss: 0.7253 - accuracy: 0.9575 - val_loss: 0.9599 - val_accuracy: 0.8300\n",
            "Epoch 96/100\n",
            "63/63 [==============================] - 1s 16ms/step - loss: 0.7170 - accuracy: 0.9570 - val_loss: 1.1824 - val_accuracy: 0.7575\n",
            "Epoch 97/100\n",
            "63/63 [==============================] - 1s 15ms/step - loss: 0.7119 - accuracy: 0.9590 - val_loss: 1.1710 - val_accuracy: 0.7575\n",
            "Epoch 98/100\n",
            "63/63 [==============================] - 1s 15ms/step - loss: 0.7109 - accuracy: 0.9610 - val_loss: 1.1328 - val_accuracy: 0.7725\n",
            "Epoch 99/100\n",
            "63/63 [==============================] - 1s 15ms/step - loss: 0.7018 - accuracy: 0.9575 - val_loss: 1.0406 - val_accuracy: 0.7950\n",
            "Epoch 100/100\n",
            "63/63 [==============================] - 1s 17ms/step - loss: 0.6990 - accuracy: 0.9560 - val_loss: 1.1978 - val_accuracy: 0.7575\n",
            "<keras.callbacks.History object at 0x7f74381db310>\n"
          ]
        }
      ]
    },
    {
      "cell_type": "markdown",
      "metadata": {
        "id": "3aoowqx5Np9n"
      },
      "source": [
        "### Exercise (Coding)"
      ]
    },
    {
      "cell_type": "markdown",
      "metadata": {
        "id": "JpWnKw_IPIr1"
      },
      "source": [
        "Our radiologist friends have provided us with some new data from the field. We can access this with `get_field_data()`. \n",
        "\n",
        "Please create **field_data** and **field_labels**."
      ]
    },
    {
      "cell_type": "code",
      "metadata": {
        "id": "NjyXgqtizcJy"
      },
      "source": [
        "#YOUR CODE HERE\n",
        "field_data, field_labels = get_field_data()"
      ],
      "execution_count": null,
      "outputs": []
    },
    {
      "cell_type": "markdown",
      "metadata": {
        "id": "1Zp69Qbd2TGU"
      },
      "source": [
        "What accuracy do you get when you use your trained CNN on the field data? Please calculate it below (hint: `(predict() > 0.5).astype(\"int32\")`.)"
      ]
    },
    {
      "cell_type": "code",
      "metadata": {
        "id": "6EhQ-c9L2SsD",
        "colab": {
          "base_uri": "https://localhost:8080/"
        },
        "outputId": "cb421352-4f6d-41b2-c1ea-e19ae92c5286"
      },
      "source": [
        "#YOUR CODE HERE\n",
        "y = (cnn.predict(field_data) > 0.5).astype(\"int32\")\n",
        "print(accuracy_score(field_labels,y))"
      ],
      "execution_count": null,
      "outputs": [
        {
          "output_type": "stream",
          "name": "stdout",
          "text": [
            "0.73\n"
          ]
        }
      ]
    },
    {
      "cell_type": "markdown",
      "metadata": {
        "id": "JncI7hnrPQS5"
      },
      "source": [
        "**Discuss:** How does your performance on field data compare to test and train data? \n",
        "\n",
        "You've probably noticed that you get different performance every time you train your model! Let's get a sense of the average: below, please **train your model 5 times, calculate the accuracy on the field data each time, and print the average accuracy.**"
      ]
    },
    {
      "cell_type": "code",
      "metadata": {
        "id": "R7S7rncnQFSP",
        "colab": {
          "base_uri": "https://localhost:8080/"
        },
        "outputId": "dbfc6a00-7979-4b0d-eb25-a2b635de4670"
      },
      "source": [
        "### YOUR CODE HERE\n",
        "train_data, train_labels = get_train_data()\n",
        "test_data, test_labels = get_test_data()\n",
        "field_data, field_labels = get_field_data()\n",
        "for i in range(5):\n",
        "  cnn = CNNClassifier(num_hidden_layers = 2)\n",
        "  x = cnn.fit(train_data, train_labels, epochs = 50, validation_data = (test_data, test_labels), shuffle = True, callbacks = [monitor])\n",
        "  print(x)\n",
        "  y = (cnn.predict(field_data) > 0.5).astype(\"int32\")\n",
        "  print(accuracy_score(field_labels,y))\n",
        "### END CODE"
      ],
      "execution_count": null,
      "outputs": [
        {
          "output_type": "stream",
          "name": "stdout",
          "text": [
            "Epoch 1/50\n",
            "63/63 [==============================] - 2s 21ms/step - loss: 2.0222 - accuracy: 0.5200 - val_loss: 2.0042 - val_accuracy: 0.5725\n",
            "Epoch 2/50\n",
            "63/63 [==============================] - 1s 16ms/step - loss: 1.9945 - accuracy: 0.5815 - val_loss: 1.9766 - val_accuracy: 0.8025\n",
            "Epoch 3/50\n",
            "63/63 [==============================] - 1s 16ms/step - loss: 1.9626 - accuracy: 0.6460 - val_loss: 1.9481 - val_accuracy: 0.7900\n",
            "Epoch 4/50\n",
            "63/63 [==============================] - 1s 15ms/step - loss: 1.9371 - accuracy: 0.6790 - val_loss: 1.9220 - val_accuracy: 0.7450\n",
            "Epoch 5/50\n",
            "63/63 [==============================] - 1s 15ms/step - loss: 1.9037 - accuracy: 0.7295 - val_loss: 1.8945 - val_accuracy: 0.7925\n",
            "Epoch 6/50\n",
            "63/63 [==============================] - 1s 15ms/step - loss: 1.8718 - accuracy: 0.7450 - val_loss: 1.8649 - val_accuracy: 0.7975\n",
            "Epoch 7/50\n",
            "63/63 [==============================] - 1s 15ms/step - loss: 1.8455 - accuracy: 0.7685 - val_loss: 1.8333 - val_accuracy: 0.8450\n",
            "Epoch 8/50\n",
            "63/63 [==============================] - 1s 16ms/step - loss: 1.8098 - accuracy: 0.7780 - val_loss: 1.8047 - val_accuracy: 0.8300\n",
            "Epoch 9/50\n",
            "63/63 [==============================] - 1s 15ms/step - loss: 1.7760 - accuracy: 0.8060 - val_loss: 1.7831 - val_accuracy: 0.7850\n",
            "Epoch 10/50\n",
            "63/63 [==============================] - 1s 16ms/step - loss: 1.7538 - accuracy: 0.8010 - val_loss: 1.7529 - val_accuracy: 0.8050\n",
            "Epoch 11/50\n",
            "63/63 [==============================] - 1s 15ms/step - loss: 1.7240 - accuracy: 0.8200 - val_loss: 1.7204 - val_accuracy: 0.8425\n",
            "Epoch 12/50\n",
            "63/63 [==============================] - 1s 15ms/step - loss: 1.6849 - accuracy: 0.8275 - val_loss: 1.6993 - val_accuracy: 0.8200\n",
            "Epoch 13/50\n",
            "63/63 [==============================] - 1s 15ms/step - loss: 1.6677 - accuracy: 0.8375 - val_loss: 1.6664 - val_accuracy: 0.8525\n",
            "Epoch 14/50\n",
            "63/63 [==============================] - 1s 16ms/step - loss: 1.6526 - accuracy: 0.8225 - val_loss: 1.6525 - val_accuracy: 0.8325\n",
            "Epoch 15/50\n",
            "63/63 [==============================] - 1s 15ms/step - loss: 1.6107 - accuracy: 0.8460 - val_loss: 1.6158 - val_accuracy: 0.8625\n",
            "Epoch 16/50\n",
            "63/63 [==============================] - 1s 16ms/step - loss: 1.5853 - accuracy: 0.8475 - val_loss: 1.6014 - val_accuracy: 0.8400\n",
            "Epoch 17/50\n",
            "63/63 [==============================] - 1s 15ms/step - loss: 1.5664 - accuracy: 0.8470 - val_loss: 1.5710 - val_accuracy: 0.8725\n",
            "Epoch 18/50\n",
            "63/63 [==============================] - 1s 15ms/step - loss: 1.5434 - accuracy: 0.8620 - val_loss: 1.5698 - val_accuracy: 0.8225\n",
            "Epoch 19/50\n",
            "63/63 [==============================] - 1s 15ms/step - loss: 1.5300 - accuracy: 0.8450 - val_loss: 1.5498 - val_accuracy: 0.8325\n",
            "Epoch 20/50\n",
            "63/63 [==============================] - 1s 15ms/step - loss: 1.4998 - accuracy: 0.8695 - val_loss: 1.5137 - val_accuracy: 0.8625\n",
            "Epoch 21/50\n",
            "63/63 [==============================] - 1s 15ms/step - loss: 1.4826 - accuracy: 0.8660 - val_loss: 1.5012 - val_accuracy: 0.8550\n",
            "Epoch 22/50\n",
            "63/63 [==============================] - 1s 16ms/step - loss: 1.4543 - accuracy: 0.8775 - val_loss: 1.4874 - val_accuracy: 0.8500\n",
            "Epoch 23/50\n",
            "63/63 [==============================] - 1s 15ms/step - loss: 1.4283 - accuracy: 0.8840 - val_loss: 1.4878 - val_accuracy: 0.8175\n",
            "Epoch 24/50\n",
            "63/63 [==============================] - 1s 15ms/step - loss: 1.4195 - accuracy: 0.8785 - val_loss: 1.4481 - val_accuracy: 0.8625\n",
            "Epoch 25/50\n",
            "63/63 [==============================] - 1s 15ms/step - loss: 1.4016 - accuracy: 0.8830 - val_loss: 1.4317 - val_accuracy: 0.8650\n",
            "Epoch 26/50\n",
            "63/63 [==============================] - 1s 15ms/step - loss: 1.3746 - accuracy: 0.9010 - val_loss: 1.4225 - val_accuracy: 0.8650\n",
            "Epoch 27/50\n",
            "63/63 [==============================] - 1s 15ms/step - loss: 1.3573 - accuracy: 0.8950 - val_loss: 1.4108 - val_accuracy: 0.8625\n",
            "Epoch 28/50\n",
            "63/63 [==============================] - 1s 15ms/step - loss: 1.3456 - accuracy: 0.8985 - val_loss: 1.4046 - val_accuracy: 0.8500\n",
            "Epoch 29/50\n",
            "63/63 [==============================] - 1s 15ms/step - loss: 1.3213 - accuracy: 0.8990 - val_loss: 1.3971 - val_accuracy: 0.8400\n",
            "Epoch 30/50\n",
            "63/63 [==============================] - 1s 15ms/step - loss: 1.3133 - accuracy: 0.8915 - val_loss: 1.4088 - val_accuracy: 0.8075\n",
            "Epoch 31/50\n",
            "63/63 [==============================] - 1s 16ms/step - loss: 1.2958 - accuracy: 0.9010 - val_loss: 1.3421 - val_accuracy: 0.8750\n",
            "Epoch 32/50\n",
            "63/63 [==============================] - 1s 15ms/step - loss: 1.2837 - accuracy: 0.9080 - val_loss: 1.3671 - val_accuracy: 0.8375\n",
            "Epoch 33/50\n",
            "63/63 [==============================] - 1s 16ms/step - loss: 1.2628 - accuracy: 0.9035 - val_loss: 1.3000 - val_accuracy: 0.8850\n",
            "Epoch 34/50\n",
            "63/63 [==============================] - 1s 16ms/step - loss: 1.2404 - accuracy: 0.9035 - val_loss: 1.3575 - val_accuracy: 0.8275\n",
            "Epoch 35/50\n",
            "63/63 [==============================] - 1s 15ms/step - loss: 1.2304 - accuracy: 0.9155 - val_loss: 1.3213 - val_accuracy: 0.8525\n",
            "Epoch 36/50\n",
            "63/63 [==============================] - 1s 15ms/step - loss: 1.2178 - accuracy: 0.9175 - val_loss: 1.3035 - val_accuracy: 0.8700\n",
            "Epoch 37/50\n",
            "63/63 [==============================] - 1s 16ms/step - loss: 1.2039 - accuracy: 0.9145 - val_loss: 1.3027 - val_accuracy: 0.8550\n",
            "Epoch 38/50\n",
            "63/63 [==============================] - 1s 15ms/step - loss: 1.1908 - accuracy: 0.9195 - val_loss: 1.3134 - val_accuracy: 0.8475\n",
            "Epoch 39/50\n",
            "63/63 [==============================] - 1s 15ms/step - loss: 1.1751 - accuracy: 0.9165 - val_loss: 1.3071 - val_accuracy: 0.8400\n",
            "Epoch 40/50\n",
            "63/63 [==============================] - 1s 16ms/step - loss: 1.1655 - accuracy: 0.9215 - val_loss: 1.2794 - val_accuracy: 0.8500\n",
            "Epoch 41/50\n",
            "63/63 [==============================] - 1s 16ms/step - loss: 1.1503 - accuracy: 0.9250 - val_loss: 1.2784 - val_accuracy: 0.8500\n",
            "Epoch 42/50\n",
            "63/63 [==============================] - 1s 16ms/step - loss: 1.1576 - accuracy: 0.9145 - val_loss: 1.3026 - val_accuracy: 0.8200\n",
            "Epoch 43/50\n",
            "63/63 [==============================] - 1s 15ms/step - loss: 1.1234 - accuracy: 0.9300 - val_loss: 1.2430 - val_accuracy: 0.8575\n",
            "Epoch 44/50\n",
            "63/63 [==============================] - 1s 16ms/step - loss: 1.1197 - accuracy: 0.9285 - val_loss: 1.2411 - val_accuracy: 0.8525\n",
            "Epoch 45/50\n",
            "63/63 [==============================] - 1s 15ms/step - loss: 1.0992 - accuracy: 0.9310 - val_loss: 1.3332 - val_accuracy: 0.7925\n",
            "Epoch 46/50\n",
            "63/63 [==============================] - 1s 15ms/step - loss: 1.0966 - accuracy: 0.9295 - val_loss: 1.2277 - val_accuracy: 0.8575\n",
            "Epoch 47/50\n",
            "63/63 [==============================] - 1s 16ms/step - loss: 1.0857 - accuracy: 0.9325 - val_loss: 1.2437 - val_accuracy: 0.8300\n",
            "Epoch 48/50\n",
            "63/63 [==============================] - 1s 18ms/step - loss: 1.0740 - accuracy: 0.9340 - val_loss: 1.1565 - val_accuracy: 0.8800\n",
            "Epoch 49/50\n",
            "63/63 [==============================] - 1s 21ms/step - loss: 1.0650 - accuracy: 0.9415 - val_loss: 1.2342 - val_accuracy: 0.8350\n",
            "Epoch 50/50\n",
            "63/63 [==============================] - 1s 15ms/step - loss: 1.0493 - accuracy: 0.9355 - val_loss: 1.1955 - val_accuracy: 0.8575\n",
            "<keras.callbacks.History object at 0x7f74380bec10>\n",
            "0.7825\n",
            "Epoch 1/50\n",
            "63/63 [==============================] - 2s 19ms/step - loss: 2.0218 - accuracy: 0.5365 - val_loss: 2.0052 - val_accuracy: 0.7525\n",
            "Epoch 2/50\n",
            "63/63 [==============================] - 1s 17ms/step - loss: 1.9952 - accuracy: 0.5880 - val_loss: 1.9812 - val_accuracy: 0.7650\n",
            "Epoch 3/50\n",
            "63/63 [==============================] - 1s 15ms/step - loss: 1.9644 - accuracy: 0.6390 - val_loss: 1.9549 - val_accuracy: 0.7350\n",
            "Epoch 4/50\n",
            "63/63 [==============================] - 1s 16ms/step - loss: 1.9362 - accuracy: 0.6710 - val_loss: 1.9241 - val_accuracy: 0.7925\n",
            "Epoch 5/50\n",
            "63/63 [==============================] - 1s 17ms/step - loss: 1.9072 - accuracy: 0.7035 - val_loss: 1.8969 - val_accuracy: 0.7525\n",
            "Epoch 6/50\n",
            "63/63 [==============================] - 1s 15ms/step - loss: 1.8781 - accuracy: 0.7255 - val_loss: 1.8667 - val_accuracy: 0.7975\n",
            "Epoch 7/50\n",
            "63/63 [==============================] - 1s 16ms/step - loss: 1.8485 - accuracy: 0.7545 - val_loss: 1.8393 - val_accuracy: 0.8275\n",
            "Epoch 8/50\n",
            "63/63 [==============================] - 1s 15ms/step - loss: 1.8175 - accuracy: 0.7550 - val_loss: 1.8126 - val_accuracy: 0.7950\n",
            "Epoch 9/50\n",
            "63/63 [==============================] - 1s 15ms/step - loss: 1.7890 - accuracy: 0.7815 - val_loss: 1.7839 - val_accuracy: 0.8025\n",
            "Epoch 10/50\n",
            "63/63 [==============================] - 1s 16ms/step - loss: 1.7571 - accuracy: 0.7870 - val_loss: 1.7513 - val_accuracy: 0.8375\n",
            "Epoch 11/50\n",
            "63/63 [==============================] - 1s 15ms/step - loss: 1.7366 - accuracy: 0.7940 - val_loss: 1.7255 - val_accuracy: 0.8375\n",
            "Epoch 12/50\n",
            "63/63 [==============================] - 1s 15ms/step - loss: 1.7020 - accuracy: 0.8180 - val_loss: 1.7055 - val_accuracy: 0.8000\n",
            "Epoch 13/50\n",
            "63/63 [==============================] - 1s 15ms/step - loss: 1.6747 - accuracy: 0.8255 - val_loss: 1.6694 - val_accuracy: 0.8575\n",
            "Epoch 14/50\n",
            "63/63 [==============================] - 1s 15ms/step - loss: 1.6536 - accuracy: 0.8155 - val_loss: 1.6510 - val_accuracy: 0.8225\n",
            "Epoch 15/50\n",
            "63/63 [==============================] - 1s 15ms/step - loss: 1.6235 - accuracy: 0.8425 - val_loss: 1.6264 - val_accuracy: 0.8275\n",
            "Epoch 16/50\n",
            "63/63 [==============================] - 1s 15ms/step - loss: 1.6001 - accuracy: 0.8425 - val_loss: 1.5992 - val_accuracy: 0.8425\n",
            "Epoch 17/50\n",
            "63/63 [==============================] - 1s 15ms/step - loss: 1.5759 - accuracy: 0.8500 - val_loss: 1.5784 - val_accuracy: 0.8425\n",
            "Epoch 18/50\n",
            "63/63 [==============================] - 1s 15ms/step - loss: 1.5476 - accuracy: 0.8575 - val_loss: 1.5683 - val_accuracy: 0.8125\n",
            "Epoch 19/50\n",
            "63/63 [==============================] - 1s 16ms/step - loss: 1.5351 - accuracy: 0.8500 - val_loss: 1.5489 - val_accuracy: 0.8150\n",
            "Epoch 20/50\n",
            "63/63 [==============================] - 1s 15ms/step - loss: 1.5042 - accuracy: 0.8650 - val_loss: 1.5211 - val_accuracy: 0.8575\n",
            "Epoch 21/50\n",
            "63/63 [==============================] - 1s 16ms/step - loss: 1.4701 - accuracy: 0.8685 - val_loss: 1.5177 - val_accuracy: 0.8175\n",
            "Epoch 22/50\n",
            "63/63 [==============================] - 1s 16ms/step - loss: 1.4702 - accuracy: 0.8660 - val_loss: 1.4779 - val_accuracy: 0.8650\n",
            "Epoch 23/50\n",
            "63/63 [==============================] - 1s 16ms/step - loss: 1.4479 - accuracy: 0.8775 - val_loss: 1.4572 - val_accuracy: 0.8725\n",
            "Epoch 24/50\n",
            "63/63 [==============================] - 1s 16ms/step - loss: 1.4187 - accuracy: 0.8795 - val_loss: 1.4439 - val_accuracy: 0.8700\n",
            "Epoch 25/50\n",
            "63/63 [==============================] - 1s 15ms/step - loss: 1.3972 - accuracy: 0.8860 - val_loss: 1.4465 - val_accuracy: 0.8400\n",
            "Epoch 26/50\n",
            "63/63 [==============================] - 1s 15ms/step - loss: 1.3876 - accuracy: 0.8860 - val_loss: 1.4493 - val_accuracy: 0.8225\n",
            "Epoch 27/50\n",
            "63/63 [==============================] - 1s 16ms/step - loss: 1.3684 - accuracy: 0.8900 - val_loss: 1.3796 - val_accuracy: 0.8725\n",
            "Epoch 28/50\n",
            "63/63 [==============================] - 1s 15ms/step - loss: 1.3600 - accuracy: 0.8895 - val_loss: 1.3897 - val_accuracy: 0.8750\n",
            "Epoch 29/50\n",
            "63/63 [==============================] - 1s 17ms/step - loss: 1.3378 - accuracy: 0.8955 - val_loss: 1.4055 - val_accuracy: 0.8350\n",
            "Epoch 30/50\n",
            "63/63 [==============================] - 1s 21ms/step - loss: 1.3264 - accuracy: 0.8940 - val_loss: 1.3740 - val_accuracy: 0.8600\n",
            "Epoch 31/50\n",
            "63/63 [==============================] - 1s 17ms/step - loss: 1.2997 - accuracy: 0.8980 - val_loss: 1.3707 - val_accuracy: 0.8475\n",
            "Epoch 32/50\n",
            "63/63 [==============================] - 1s 15ms/step - loss: 1.2937 - accuracy: 0.8980 - val_loss: 1.3611 - val_accuracy: 0.8525\n",
            "Epoch 33/50\n",
            "63/63 [==============================] - 1s 15ms/step - loss: 1.2678 - accuracy: 0.9060 - val_loss: 1.3169 - val_accuracy: 0.8775\n",
            "Epoch 34/50\n",
            "63/63 [==============================] - 1s 17ms/step - loss: 1.2541 - accuracy: 0.9145 - val_loss: 1.3294 - val_accuracy: 0.8600\n",
            "Epoch 35/50\n",
            "63/63 [==============================] - 1s 15ms/step - loss: 1.2428 - accuracy: 0.9070 - val_loss: 1.2944 - val_accuracy: 0.8775\n",
            "Epoch 36/50\n",
            "63/63 [==============================] - 1s 17ms/step - loss: 1.2273 - accuracy: 0.9170 - val_loss: 1.2858 - val_accuracy: 0.8750\n",
            "Epoch 37/50\n",
            "63/63 [==============================] - 1s 16ms/step - loss: 1.2230 - accuracy: 0.9095 - val_loss: 1.2690 - val_accuracy: 0.8775\n",
            "Epoch 38/50\n",
            "63/63 [==============================] - 1s 15ms/step - loss: 1.2057 - accuracy: 0.9115 - val_loss: 1.3224 - val_accuracy: 0.8350\n",
            "Epoch 39/50\n",
            "63/63 [==============================] - 1s 23ms/step - loss: 1.1947 - accuracy: 0.9150 - val_loss: 1.3136 - val_accuracy: 0.8375\n",
            "Epoch 40/50\n",
            "63/63 [==============================] - 1s 22ms/step - loss: 1.1805 - accuracy: 0.9190 - val_loss: 1.2410 - val_accuracy: 0.8775\n",
            "Epoch 41/50\n",
            "63/63 [==============================] - 1s 21ms/step - loss: 1.1661 - accuracy: 0.9165 - val_loss: 1.2598 - val_accuracy: 0.8625\n",
            "Epoch 42/50\n",
            "63/63 [==============================] - 1s 17ms/step - loss: 1.1507 - accuracy: 0.9220 - val_loss: 1.2627 - val_accuracy: 0.8550\n",
            "Epoch 43/50\n",
            "63/63 [==============================] - 1s 15ms/step - loss: 1.1471 - accuracy: 0.9190 - val_loss: 1.2263 - val_accuracy: 0.8700\n",
            "Epoch 44/50\n",
            "63/63 [==============================] - 1s 16ms/step - loss: 1.1361 - accuracy: 0.9230 - val_loss: 1.2206 - val_accuracy: 0.8675\n",
            "Epoch 45/50\n",
            "63/63 [==============================] - 1s 17ms/step - loss: 1.1164 - accuracy: 0.9230 - val_loss: 1.1887 - val_accuracy: 0.8825\n",
            "Epoch 46/50\n",
            "63/63 [==============================] - 1s 17ms/step - loss: 1.1134 - accuracy: 0.9240 - val_loss: 1.2436 - val_accuracy: 0.8400\n",
            "Epoch 47/50\n",
            "63/63 [==============================] - 1s 17ms/step - loss: 1.0988 - accuracy: 0.9265 - val_loss: 1.2264 - val_accuracy: 0.8500\n",
            "Epoch 48/50\n",
            "63/63 [==============================] - 1s 17ms/step - loss: 1.0824 - accuracy: 0.9275 - val_loss: 1.1802 - val_accuracy: 0.8725\n",
            "Epoch 49/50\n",
            "63/63 [==============================] - 1s 15ms/step - loss: 1.0723 - accuracy: 0.9270 - val_loss: 1.2856 - val_accuracy: 0.8000\n",
            "Epoch 50/50\n",
            "63/63 [==============================] - 1s 16ms/step - loss: 1.0699 - accuracy: 0.9280 - val_loss: 1.1514 - val_accuracy: 0.8775\n",
            "<keras.callbacks.History object at 0x7f7437da8ed0>\n",
            "0.82\n",
            "Epoch 1/50\n",
            "63/63 [==============================] - 39s 32ms/step - loss: 2.0199 - accuracy: 0.5535 - val_loss: 2.0039 - val_accuracy: 0.8200\n",
            "Epoch 2/50\n",
            "63/63 [==============================] - 1s 23ms/step - loss: 1.9880 - accuracy: 0.6190 - val_loss: 1.9748 - val_accuracy: 0.7900\n",
            "Epoch 3/50\n",
            "63/63 [==============================] - 1s 16ms/step - loss: 1.9611 - accuracy: 0.6470 - val_loss: 1.9458 - val_accuracy: 0.7900\n",
            "Epoch 4/50\n",
            "63/63 [==============================] - 1s 16ms/step - loss: 1.9307 - accuracy: 0.6920 - val_loss: 1.9274 - val_accuracy: 0.6875\n",
            "Epoch 5/50\n",
            "63/63 [==============================] - 1s 15ms/step - loss: 1.9012 - accuracy: 0.7240 - val_loss: 1.8968 - val_accuracy: 0.7525\n",
            "Epoch 6/50\n",
            "63/63 [==============================] - 1s 15ms/step - loss: 1.8661 - accuracy: 0.7735 - val_loss: 1.8671 - val_accuracy: 0.7475\n",
            "Epoch 7/50\n",
            "63/63 [==============================] - 1s 17ms/step - loss: 1.8350 - accuracy: 0.7825 - val_loss: 1.8280 - val_accuracy: 0.8225\n",
            "Epoch 8/50\n",
            "63/63 [==============================] - 1s 15ms/step - loss: 1.8005 - accuracy: 0.7930 - val_loss: 1.7965 - val_accuracy: 0.8275\n",
            "Epoch 9/50\n",
            "63/63 [==============================] - 1s 15ms/step - loss: 1.7757 - accuracy: 0.7920 - val_loss: 1.7820 - val_accuracy: 0.7850\n",
            "Epoch 10/50\n",
            "63/63 [==============================] - 1s 17ms/step - loss: 1.7452 - accuracy: 0.8095 - val_loss: 1.7473 - val_accuracy: 0.7950\n",
            "Epoch 11/50\n",
            "63/63 [==============================] - 1s 17ms/step - loss: 1.7156 - accuracy: 0.8165 - val_loss: 1.7356 - val_accuracy: 0.7750\n",
            "Epoch 12/50\n",
            "63/63 [==============================] - 1s 16ms/step - loss: 1.6858 - accuracy: 0.8290 - val_loss: 1.6951 - val_accuracy: 0.8225\n",
            "Epoch 13/50\n",
            "63/63 [==============================] - 1s 16ms/step - loss: 1.6513 - accuracy: 0.8425 - val_loss: 1.6730 - val_accuracy: 0.7975\n",
            "Epoch 14/50\n",
            "63/63 [==============================] - 1s 15ms/step - loss: 1.6370 - accuracy: 0.8365 - val_loss: 1.6651 - val_accuracy: 0.7750\n",
            "Epoch 15/50\n",
            "63/63 [==============================] - 1s 17ms/step - loss: 1.6035 - accuracy: 0.8500 - val_loss: 1.6208 - val_accuracy: 0.8275\n",
            "Epoch 16/50\n",
            "63/63 [==============================] - 1s 17ms/step - loss: 1.5845 - accuracy: 0.8435 - val_loss: 1.5930 - val_accuracy: 0.8450\n",
            "Epoch 17/50\n",
            "63/63 [==============================] - 1s 17ms/step - loss: 1.5556 - accuracy: 0.8640 - val_loss: 1.5973 - val_accuracy: 0.7900\n",
            "Epoch 18/50\n",
            "63/63 [==============================] - 1s 15ms/step - loss: 1.5364 - accuracy: 0.8670 - val_loss: 1.5538 - val_accuracy: 0.8400\n",
            "Epoch 19/50\n",
            "63/63 [==============================] - 1s 16ms/step - loss: 1.5209 - accuracy: 0.8675 - val_loss: 1.5289 - val_accuracy: 0.8525\n",
            "Epoch 20/50\n",
            "63/63 [==============================] - 1s 15ms/step - loss: 1.4865 - accuracy: 0.8865 - val_loss: 1.5243 - val_accuracy: 0.8425\n",
            "Epoch 21/50\n",
            "63/63 [==============================] - 1s 15ms/step - loss: 1.4711 - accuracy: 0.8845 - val_loss: 1.5487 - val_accuracy: 0.7800\n",
            "Epoch 22/50\n",
            "63/63 [==============================] - 1s 17ms/step - loss: 1.4505 - accuracy: 0.8875 - val_loss: 1.5094 - val_accuracy: 0.8175\n",
            "Epoch 23/50\n",
            "63/63 [==============================] - 1s 16ms/step - loss: 1.4356 - accuracy: 0.8800 - val_loss: 1.4934 - val_accuracy: 0.8200\n",
            "Epoch 24/50\n",
            "63/63 [==============================] - 1s 16ms/step - loss: 1.4147 - accuracy: 0.8940 - val_loss: 1.4408 - val_accuracy: 0.8575\n",
            "Epoch 25/50\n",
            "63/63 [==============================] - 1s 16ms/step - loss: 1.3886 - accuracy: 0.8940 - val_loss: 1.4675 - val_accuracy: 0.8250\n",
            "Epoch 26/50\n",
            "63/63 [==============================] - 1s 16ms/step - loss: 1.3810 - accuracy: 0.8940 - val_loss: 1.4272 - val_accuracy: 0.8675\n",
            "Epoch 27/50\n",
            "63/63 [==============================] - 1s 17ms/step - loss: 1.3647 - accuracy: 0.9010 - val_loss: 1.4163 - val_accuracy: 0.8600\n",
            "Epoch 28/50\n",
            "63/63 [==============================] - 1s 17ms/step - loss: 1.3413 - accuracy: 0.9045 - val_loss: 1.3983 - val_accuracy: 0.8625\n",
            "Epoch 29/50\n",
            "63/63 [==============================] - 1s 17ms/step - loss: 1.3246 - accuracy: 0.9065 - val_loss: 1.3661 - val_accuracy: 0.8700\n",
            "Epoch 30/50\n",
            "63/63 [==============================] - 1s 17ms/step - loss: 1.3106 - accuracy: 0.9040 - val_loss: 1.4052 - val_accuracy: 0.8325\n",
            "Epoch 31/50\n",
            "63/63 [==============================] - 1s 17ms/step - loss: 1.3040 - accuracy: 0.9105 - val_loss: 1.3667 - val_accuracy: 0.8600\n",
            "Epoch 32/50\n",
            "63/63 [==============================] - 1s 16ms/step - loss: 1.2907 - accuracy: 0.9045 - val_loss: 1.3575 - val_accuracy: 0.8550\n",
            "Epoch 33/50\n",
            "63/63 [==============================] - 1s 16ms/step - loss: 1.2655 - accuracy: 0.9195 - val_loss: 1.3430 - val_accuracy: 0.8625\n",
            "Epoch 34/50\n",
            "63/63 [==============================] - 1s 16ms/step - loss: 1.2491 - accuracy: 0.9140 - val_loss: 1.3365 - val_accuracy: 0.8600\n",
            "Epoch 35/50\n",
            "63/63 [==============================] - 1s 17ms/step - loss: 1.2465 - accuracy: 0.9120 - val_loss: 1.3069 - val_accuracy: 0.8700\n",
            "Epoch 36/50\n",
            "63/63 [==============================] - 1s 16ms/step - loss: 1.2264 - accuracy: 0.9220 - val_loss: 1.3837 - val_accuracy: 0.8050\n",
            "Epoch 37/50\n",
            "63/63 [==============================] - 1s 16ms/step - loss: 1.2210 - accuracy: 0.9210 - val_loss: 1.3091 - val_accuracy: 0.8525\n",
            "Epoch 38/50\n",
            "63/63 [==============================] - 1s 17ms/step - loss: 1.2048 - accuracy: 0.9240 - val_loss: 1.2830 - val_accuracy: 0.8675\n",
            "Epoch 39/50\n",
            "63/63 [==============================] - 1s 17ms/step - loss: 1.1947 - accuracy: 0.9220 - val_loss: 1.3517 - val_accuracy: 0.8125\n",
            "Epoch 40/50\n",
            "63/63 [==============================] - 1s 16ms/step - loss: 1.1846 - accuracy: 0.9255 - val_loss: 1.3222 - val_accuracy: 0.8250\n",
            "Epoch 41/50\n",
            "63/63 [==============================] - 1s 16ms/step - loss: 1.1592 - accuracy: 0.9295 - val_loss: 1.3491 - val_accuracy: 0.8075\n",
            "Epoch 42/50\n",
            "63/63 [==============================] - 1s 16ms/step - loss: 1.1577 - accuracy: 0.9290 - val_loss: 1.2907 - val_accuracy: 0.8325\n",
            "Epoch 43/50\n",
            "63/63 [==============================] - 1s 17ms/step - loss: 1.1459 - accuracy: 0.9325 - val_loss: 1.2315 - val_accuracy: 0.8750\n",
            "Epoch 44/50\n",
            "63/63 [==============================] - 1s 17ms/step - loss: 1.1315 - accuracy: 0.9300 - val_loss: 1.2734 - val_accuracy: 0.8325\n",
            "Epoch 45/50\n",
            "63/63 [==============================] - 1s 17ms/step - loss: 1.1154 - accuracy: 0.9345 - val_loss: 1.2078 - val_accuracy: 0.8775\n",
            "Epoch 46/50\n",
            "63/63 [==============================] - 1s 15ms/step - loss: 1.1146 - accuracy: 0.9330 - val_loss: 1.4241 - val_accuracy: 0.7475\n",
            "Epoch 47/50\n",
            "63/63 [==============================] - 1s 16ms/step - loss: 1.1019 - accuracy: 0.9315 - val_loss: 1.2967 - val_accuracy: 0.8100\n",
            "Epoch 48/50\n",
            "63/63 [==============================] - 1s 17ms/step - loss: 1.0893 - accuracy: 0.9360 - val_loss: 1.3105 - val_accuracy: 0.8000\n",
            "Epoch 49/50\n",
            "63/63 [==============================] - 1s 15ms/step - loss: 1.0747 - accuracy: 0.9360 - val_loss: 1.2998 - val_accuracy: 0.8000\n",
            "Epoch 50/50\n",
            "63/63 [==============================] - 1s 17ms/step - loss: 1.0784 - accuracy: 0.9320 - val_loss: 1.2255 - val_accuracy: 0.8425\n",
            "<keras.callbacks.History object at 0x7f7437a58990>\n",
            "0.7775\n",
            "Epoch 1/50\n",
            "63/63 [==============================] - 2s 21ms/step - loss: 2.0158 - accuracy: 0.5330 - val_loss: 1.9991 - val_accuracy: 0.7475\n",
            "Epoch 2/50\n",
            "63/63 [==============================] - 1s 17ms/step - loss: 1.9728 - accuracy: 0.6270 - val_loss: 1.9697 - val_accuracy: 0.7225\n",
            "Epoch 3/50\n",
            "63/63 [==============================] - 1s 16ms/step - loss: 1.9413 - accuracy: 0.6685 - val_loss: 1.9346 - val_accuracy: 0.7850\n",
            "Epoch 4/50\n",
            "63/63 [==============================] - 1s 17ms/step - loss: 1.9030 - accuracy: 0.7230 - val_loss: 1.8990 - val_accuracy: 0.8025\n",
            "Epoch 5/50\n",
            "63/63 [==============================] - 1s 17ms/step - loss: 1.8708 - accuracy: 0.7385 - val_loss: 1.8725 - val_accuracy: 0.7750\n",
            "Epoch 6/50\n",
            "63/63 [==============================] - 1s 17ms/step - loss: 1.8376 - accuracy: 0.7780 - val_loss: 1.8355 - val_accuracy: 0.8200\n",
            "Epoch 7/50\n",
            "63/63 [==============================] - 1s 23ms/step - loss: 1.7990 - accuracy: 0.7890 - val_loss: 1.8019 - val_accuracy: 0.8125\n",
            "Epoch 8/50\n",
            "63/63 [==============================] - 1s 24ms/step - loss: 1.7720 - accuracy: 0.8000 - val_loss: 1.7824 - val_accuracy: 0.7875\n",
            "Epoch 9/50\n",
            "63/63 [==============================] - 2s 25ms/step - loss: 1.7346 - accuracy: 0.8280 - val_loss: 1.7530 - val_accuracy: 0.7900\n",
            "Epoch 10/50\n",
            "63/63 [==============================] - 1s 23ms/step - loss: 1.7062 - accuracy: 0.8215 - val_loss: 1.7216 - val_accuracy: 0.7925\n",
            "Epoch 11/50\n",
            "63/63 [==============================] - 2s 25ms/step - loss: 1.6799 - accuracy: 0.8385 - val_loss: 1.6898 - val_accuracy: 0.8175\n",
            "Epoch 12/50\n",
            "63/63 [==============================] - 1s 17ms/step - loss: 1.6459 - accuracy: 0.8395 - val_loss: 1.6634 - val_accuracy: 0.8225\n",
            "Epoch 13/50\n",
            "63/63 [==============================] - 1s 16ms/step - loss: 1.6180 - accuracy: 0.8550 - val_loss: 1.6725 - val_accuracy: 0.7675\n",
            "Epoch 14/50\n",
            "63/63 [==============================] - 1s 17ms/step - loss: 1.5946 - accuracy: 0.8585 - val_loss: 1.6153 - val_accuracy: 0.8450\n",
            "Epoch 15/50\n",
            "63/63 [==============================] - 1s 17ms/step - loss: 1.5709 - accuracy: 0.8685 - val_loss: 1.6078 - val_accuracy: 0.8200\n",
            "Epoch 16/50\n",
            "63/63 [==============================] - 1s 17ms/step - loss: 1.5470 - accuracy: 0.8680 - val_loss: 1.6049 - val_accuracy: 0.7850\n",
            "Epoch 17/50\n",
            "63/63 [==============================] - 1s 15ms/step - loss: 1.5238 - accuracy: 0.8755 - val_loss: 1.5465 - val_accuracy: 0.8625\n",
            "Epoch 18/50\n",
            "63/63 [==============================] - 1s 15ms/step - loss: 1.5103 - accuracy: 0.8755 - val_loss: 1.5521 - val_accuracy: 0.8325\n",
            "Epoch 19/50\n",
            "63/63 [==============================] - 1s 15ms/step - loss: 1.4919 - accuracy: 0.8845 - val_loss: 1.5200 - val_accuracy: 0.8600\n",
            "Epoch 20/50\n",
            "63/63 [==============================] - 1s 16ms/step - loss: 1.4676 - accuracy: 0.8850 - val_loss: 1.5418 - val_accuracy: 0.8000\n",
            "Epoch 21/50\n",
            "63/63 [==============================] - 1s 15ms/step - loss: 1.4428 - accuracy: 0.8880 - val_loss: 1.4733 - val_accuracy: 0.8675\n",
            "Epoch 22/50\n",
            "63/63 [==============================] - 1s 17ms/step - loss: 1.4294 - accuracy: 0.8925 - val_loss: 1.4567 - val_accuracy: 0.8700\n",
            "Epoch 23/50\n",
            "63/63 [==============================] - 1s 16ms/step - loss: 1.4103 - accuracy: 0.8880 - val_loss: 1.4739 - val_accuracy: 0.8350\n",
            "Epoch 24/50\n",
            "63/63 [==============================] - 1s 17ms/step - loss: 1.3829 - accuracy: 0.9075 - val_loss: 1.4314 - val_accuracy: 0.8725\n",
            "Epoch 25/50\n",
            "63/63 [==============================] - 1s 17ms/step - loss: 1.3755 - accuracy: 0.9050 - val_loss: 1.4407 - val_accuracy: 0.8475\n",
            "Epoch 26/50\n",
            "63/63 [==============================] - 1s 17ms/step - loss: 1.3633 - accuracy: 0.9005 - val_loss: 1.4403 - val_accuracy: 0.8350\n",
            "Epoch 27/50\n",
            "63/63 [==============================] - 1s 17ms/step - loss: 1.3439 - accuracy: 0.9000 - val_loss: 1.4946 - val_accuracy: 0.7625\n",
            "Epoch 28/50\n",
            "63/63 [==============================] - 1s 17ms/step - loss: 1.3255 - accuracy: 0.9130 - val_loss: 1.5213 - val_accuracy: 0.7425\n",
            "Epoch 29/50\n",
            "63/63 [==============================] - 1s 17ms/step - loss: 1.3103 - accuracy: 0.9090 - val_loss: 1.4139 - val_accuracy: 0.8275\n",
            "Epoch 30/50\n",
            "63/63 [==============================] - 1s 16ms/step - loss: 1.3018 - accuracy: 0.9105 - val_loss: 1.3800 - val_accuracy: 0.8600\n",
            "Epoch 31/50\n",
            "63/63 [==============================] - 1s 15ms/step - loss: 1.2828 - accuracy: 0.9195 - val_loss: 1.3907 - val_accuracy: 0.8275\n",
            "Epoch 32/50\n",
            "63/63 [==============================] - 1s 17ms/step - loss: 1.2665 - accuracy: 0.9210 - val_loss: 1.3693 - val_accuracy: 0.8450\n",
            "Epoch 33/50\n",
            "63/63 [==============================] - 1s 16ms/step - loss: 1.2638 - accuracy: 0.9195 - val_loss: 1.3561 - val_accuracy: 0.8500\n",
            "Epoch 34/50\n",
            "63/63 [==============================] - 1s 16ms/step - loss: 1.2398 - accuracy: 0.9190 - val_loss: 1.3487 - val_accuracy: 0.8450\n",
            "Epoch 35/50\n",
            "63/63 [==============================] - 1s 16ms/step - loss: 1.2320 - accuracy: 0.9230 - val_loss: 1.3442 - val_accuracy: 0.8450\n",
            "Epoch 36/50\n",
            "63/63 [==============================] - 1s 16ms/step - loss: 1.2192 - accuracy: 0.9250 - val_loss: 1.3358 - val_accuracy: 0.8400\n",
            "Epoch 37/50\n",
            "63/63 [==============================] - 1s 17ms/step - loss: 1.2038 - accuracy: 0.9280 - val_loss: 1.3708 - val_accuracy: 0.8025\n",
            "Epoch 38/50\n",
            "63/63 [==============================] - 1s 15ms/step - loss: 1.1923 - accuracy: 0.9290 - val_loss: 1.3317 - val_accuracy: 0.8250\n",
            "Epoch 39/50\n",
            "63/63 [==============================] - 1s 16ms/step - loss: 1.1834 - accuracy: 0.9285 - val_loss: 1.4073 - val_accuracy: 0.7875\n",
            "Epoch 40/50\n",
            "63/63 [==============================] - 1s 15ms/step - loss: 1.1727 - accuracy: 0.9265 - val_loss: 1.3487 - val_accuracy: 0.8125\n",
            "Epoch 41/50\n",
            "63/63 [==============================] - 1s 17ms/step - loss: 1.1603 - accuracy: 0.9270 - val_loss: 1.3087 - val_accuracy: 0.8250\n",
            "Epoch 42/50\n",
            "63/63 [==============================] - 1s 17ms/step - loss: 1.1487 - accuracy: 0.9290 - val_loss: 1.2707 - val_accuracy: 0.8550\n",
            "Epoch 43/50\n",
            "63/63 [==============================] - 1s 16ms/step - loss: 1.1290 - accuracy: 0.9320 - val_loss: 1.4340 - val_accuracy: 0.7600\n",
            "Epoch 44/50\n",
            "63/63 [==============================] - 1s 16ms/step - loss: 1.1274 - accuracy: 0.9370 - val_loss: 1.3543 - val_accuracy: 0.7950\n",
            "Epoch 45/50\n",
            "63/63 [==============================] - 1s 16ms/step - loss: 1.1129 - accuracy: 0.9335 - val_loss: 1.3511 - val_accuracy: 0.7925\n",
            "Epoch 46/50\n",
            "63/63 [==============================] - 1s 17ms/step - loss: 1.1133 - accuracy: 0.9325 - val_loss: 1.2616 - val_accuracy: 0.8350\n",
            "Epoch 47/50\n",
            "63/63 [==============================] - 1s 17ms/step - loss: 1.0996 - accuracy: 0.9385 - val_loss: 1.2312 - val_accuracy: 0.8425\n",
            "Epoch 48/50\n",
            "63/63 [==============================] - 1s 16ms/step - loss: 1.0891 - accuracy: 0.9355 - val_loss: 1.2702 - val_accuracy: 0.8250\n",
            "Epoch 49/50\n",
            "63/63 [==============================] - 1s 17ms/step - loss: 1.0697 - accuracy: 0.9425 - val_loss: 1.3182 - val_accuracy: 0.8000\n",
            "Epoch 50/50\n",
            "63/63 [==============================] - 1s 17ms/step - loss: 1.0572 - accuracy: 0.9500 - val_loss: 1.3293 - val_accuracy: 0.7875\n",
            "<keras.callbacks.History object at 0x7f75201dbb50>\n",
            "0.74\n",
            "Epoch 1/50\n",
            "63/63 [==============================] - 3s 22ms/step - loss: 2.0121 - accuracy: 0.5545 - val_loss: 1.9888 - val_accuracy: 0.7200\n",
            "Epoch 2/50\n",
            "63/63 [==============================] - 1s 17ms/step - loss: 1.9819 - accuracy: 0.6005 - val_loss: 1.9590 - val_accuracy: 0.7750\n",
            "Epoch 3/50\n",
            "63/63 [==============================] - 1s 16ms/step - loss: 1.9408 - accuracy: 0.6730 - val_loss: 1.9211 - val_accuracy: 0.7775\n",
            "Epoch 4/50\n",
            "63/63 [==============================] - 1s 17ms/step - loss: 1.8967 - accuracy: 0.7275 - val_loss: 1.8850 - val_accuracy: 0.8075\n",
            "Epoch 5/50\n",
            "63/63 [==============================] - 1s 15ms/step - loss: 1.8612 - accuracy: 0.7540 - val_loss: 1.8567 - val_accuracy: 0.7775\n",
            "Epoch 6/50\n",
            "63/63 [==============================] - 1s 16ms/step - loss: 1.8267 - accuracy: 0.7780 - val_loss: 1.8208 - val_accuracy: 0.7925\n",
            "Epoch 7/50\n",
            "63/63 [==============================] - 1s 17ms/step - loss: 1.7860 - accuracy: 0.8040 - val_loss: 1.8089 - val_accuracy: 0.7325\n",
            "Epoch 8/50\n",
            "63/63 [==============================] - 1s 17ms/step - loss: 1.7550 - accuracy: 0.7980 - val_loss: 1.7593 - val_accuracy: 0.8050\n",
            "Epoch 9/50\n",
            "63/63 [==============================] - 1s 15ms/step - loss: 1.7281 - accuracy: 0.8160 - val_loss: 1.7307 - val_accuracy: 0.8175\n",
            "Epoch 10/50\n",
            "63/63 [==============================] - 1s 15ms/step - loss: 1.6883 - accuracy: 0.8290 - val_loss: 1.7071 - val_accuracy: 0.7875\n",
            "Epoch 11/50\n",
            "63/63 [==============================] - 1s 17ms/step - loss: 1.6738 - accuracy: 0.8330 - val_loss: 1.6751 - val_accuracy: 0.8300\n",
            "Epoch 12/50\n",
            "63/63 [==============================] - 1s 17ms/step - loss: 1.6316 - accuracy: 0.8480 - val_loss: 1.6444 - val_accuracy: 0.8325\n",
            "Epoch 13/50\n",
            "63/63 [==============================] - 1s 17ms/step - loss: 1.6099 - accuracy: 0.8560 - val_loss: 1.6294 - val_accuracy: 0.8100\n",
            "Epoch 14/50\n",
            "63/63 [==============================] - 1s 17ms/step - loss: 1.5850 - accuracy: 0.8560 - val_loss: 1.6211 - val_accuracy: 0.7950\n",
            "Epoch 15/50\n",
            "63/63 [==============================] - 1s 17ms/step - loss: 1.5614 - accuracy: 0.8545 - val_loss: 1.5674 - val_accuracy: 0.8675\n",
            "Epoch 16/50\n",
            "63/63 [==============================] - 1s 17ms/step - loss: 1.5409 - accuracy: 0.8685 - val_loss: 1.5780 - val_accuracy: 0.8125\n",
            "Epoch 17/50\n",
            "63/63 [==============================] - 1s 15ms/step - loss: 1.5125 - accuracy: 0.8760 - val_loss: 1.5632 - val_accuracy: 0.8050\n",
            "Epoch 18/50\n",
            "63/63 [==============================] - 1s 15ms/step - loss: 1.4909 - accuracy: 0.8735 - val_loss: 1.5299 - val_accuracy: 0.8300\n",
            "Epoch 19/50\n",
            "63/63 [==============================] - 1s 17ms/step - loss: 1.4694 - accuracy: 0.8720 - val_loss: 1.5114 - val_accuracy: 0.8425\n",
            "Epoch 20/50\n",
            "63/63 [==============================] - 1s 16ms/step - loss: 1.4620 - accuracy: 0.8880 - val_loss: 1.5036 - val_accuracy: 0.8350\n",
            "Epoch 21/50\n",
            "63/63 [==============================] - 1s 17ms/step - loss: 1.4397 - accuracy: 0.8865 - val_loss: 1.5069 - val_accuracy: 0.8150\n",
            "Epoch 22/50\n",
            "63/63 [==============================] - 1s 16ms/step - loss: 1.4109 - accuracy: 0.8950 - val_loss: 1.4604 - val_accuracy: 0.8525\n",
            "Epoch 23/50\n",
            "63/63 [==============================] - 1s 16ms/step - loss: 1.3967 - accuracy: 0.8955 - val_loss: 1.4494 - val_accuracy: 0.8525\n",
            "Epoch 24/50\n",
            "63/63 [==============================] - 1s 16ms/step - loss: 1.3854 - accuracy: 0.8960 - val_loss: 1.4324 - val_accuracy: 0.8625\n",
            "Epoch 25/50\n",
            "63/63 [==============================] - 1s 16ms/step - loss: 1.3629 - accuracy: 0.8925 - val_loss: 1.3999 - val_accuracy: 0.8750\n",
            "Epoch 26/50\n",
            "63/63 [==============================] - 1s 16ms/step - loss: 1.3392 - accuracy: 0.9100 - val_loss: 1.4016 - val_accuracy: 0.8675\n",
            "Epoch 27/50\n",
            "63/63 [==============================] - 1s 16ms/step - loss: 1.3268 - accuracy: 0.9110 - val_loss: 1.3776 - val_accuracy: 0.8700\n",
            "Epoch 28/50\n",
            "63/63 [==============================] - 1s 16ms/step - loss: 1.3168 - accuracy: 0.9080 - val_loss: 1.4159 - val_accuracy: 0.8200\n",
            "Epoch 29/50\n",
            "63/63 [==============================] - 1s 17ms/step - loss: 1.3023 - accuracy: 0.9060 - val_loss: 1.3642 - val_accuracy: 0.8675\n",
            "Epoch 30/50\n",
            "63/63 [==============================] - 1s 16ms/step - loss: 1.2842 - accuracy: 0.9095 - val_loss: 1.3616 - val_accuracy: 0.8600\n",
            "Epoch 31/50\n",
            "63/63 [==============================] - 1s 16ms/step - loss: 1.2712 - accuracy: 0.9150 - val_loss: 1.3697 - val_accuracy: 0.8375\n",
            "Epoch 32/50\n",
            "63/63 [==============================] - 1s 16ms/step - loss: 1.2594 - accuracy: 0.9175 - val_loss: 1.3256 - val_accuracy: 0.8675\n",
            "Epoch 33/50\n",
            "63/63 [==============================] - 1s 16ms/step - loss: 1.2430 - accuracy: 0.9190 - val_loss: 1.3999 - val_accuracy: 0.8000\n",
            "Epoch 34/50\n",
            "63/63 [==============================] - 1s 17ms/step - loss: 1.2360 - accuracy: 0.9250 - val_loss: 1.3084 - val_accuracy: 0.8650\n",
            "Epoch 35/50\n",
            "63/63 [==============================] - 1s 16ms/step - loss: 1.2199 - accuracy: 0.9185 - val_loss: 1.2969 - val_accuracy: 0.8700\n",
            "Epoch 36/50\n",
            "63/63 [==============================] - 1s 16ms/step - loss: 1.2119 - accuracy: 0.9210 - val_loss: 1.3234 - val_accuracy: 0.8375\n",
            "Epoch 37/50\n",
            "63/63 [==============================] - 1s 17ms/step - loss: 1.2003 - accuracy: 0.9160 - val_loss: 1.2604 - val_accuracy: 0.8825\n",
            "Epoch 38/50\n",
            "63/63 [==============================] - 1s 17ms/step - loss: 1.1828 - accuracy: 0.9285 - val_loss: 1.3814 - val_accuracy: 0.7850\n",
            "Epoch 39/50\n",
            "63/63 [==============================] - 1s 18ms/step - loss: 1.1751 - accuracy: 0.9285 - val_loss: 1.2898 - val_accuracy: 0.8375\n",
            "Epoch 40/50\n",
            "63/63 [==============================] - 1s 16ms/step - loss: 1.1560 - accuracy: 0.9300 - val_loss: 1.3128 - val_accuracy: 0.8250\n",
            "Epoch 41/50\n",
            "63/63 [==============================] - 1s 18ms/step - loss: 1.1482 - accuracy: 0.9315 - val_loss: 1.2810 - val_accuracy: 0.8300\n",
            "Epoch 42/50\n",
            "63/63 [==============================] - 1s 16ms/step - loss: 1.1365 - accuracy: 0.9280 - val_loss: 1.2690 - val_accuracy: 0.8350\n",
            "Epoch 43/50\n",
            "63/63 [==============================] - 1s 16ms/step - loss: 1.1257 - accuracy: 0.9310 - val_loss: 1.2732 - val_accuracy: 0.8275\n",
            "Epoch 44/50\n",
            "63/63 [==============================] - 1s 16ms/step - loss: 1.1094 - accuracy: 0.9340 - val_loss: 1.2772 - val_accuracy: 0.8250\n",
            "Epoch 45/50\n",
            "63/63 [==============================] - 1s 17ms/step - loss: 1.1036 - accuracy: 0.9355 - val_loss: 1.3250 - val_accuracy: 0.7900\n",
            "Epoch 46/50\n",
            "63/63 [==============================] - 1s 16ms/step - loss: 1.0850 - accuracy: 0.9405 - val_loss: 1.3355 - val_accuracy: 0.7825\n",
            "Epoch 47/50\n",
            "63/63 [==============================] - 1s 16ms/step - loss: 1.0904 - accuracy: 0.9350 - val_loss: 1.3483 - val_accuracy: 0.7750\n",
            "Epoch 48/50\n",
            "63/63 [==============================] - 1s 17ms/step - loss: 1.0641 - accuracy: 0.9400 - val_loss: 1.3173 - val_accuracy: 0.7875\n",
            "Epoch 49/50\n",
            "63/63 [==============================] - 1s 17ms/step - loss: 1.0601 - accuracy: 0.9350 - val_loss: 1.2976 - val_accuracy: 0.7900\n",
            "Epoch 50/50\n",
            "63/63 [==============================] - 1s 16ms/step - loss: 1.0488 - accuracy: 0.9420 - val_loss: 1.2802 - val_accuracy: 0.7975\n",
            "<keras.callbacks.History object at 0x7f75201c2b50>\n",
            "0.7475\n"
          ]
        }
      ]
    },
    {
      "cell_type": "markdown",
      "metadata": {
        "id": "Hf7xfFv9PwrF"
      },
      "source": [
        "## Activity 1b: Understanding our model's performance on field data"
      ]
    },
    {
      "cell_type": "code",
      "source": [
        ""
      ],
      "metadata": {
        "id": "UaEAepkBIC_X"
      },
      "execution_count": null,
      "outputs": []
    },
    {
      "cell_type": "markdown",
      "metadata": {
        "id": "VdJhwDjBb1U_"
      },
      "source": [
        "### Exercise (Discussion)\n",
        "Discuss this with your instructor:\n",
        "* How did your model do? Did it perform quite as well?\n",
        "* Why do you think it did this way? \n",
        "* **Come up with a few hypotheses for what's different between our test data and our field data!**"
      ]
    },
    {
      "cell_type": "markdown",
      "metadata": {
        "id": "pILpz1SScRRl"
      },
      "source": [
        "## Activity 1c: Error analysis\n",
        "\n",
        "### Understanding where the model did not perform as well"
      ]
    },
    {
      "cell_type": "markdown",
      "metadata": {
        "id": "vjo7cW5kP14m"
      },
      "source": [
        "### Exercise (Coding)"
      ]
    },
    {
      "cell_type": "markdown",
      "metadata": {
        "id": "pOmLO3M4P3XO"
      },
      "source": [
        "Since our `field_data` comes from the field, it's possible that it's different from `train_data` and `test_data` in some important ways!\n",
        "\n",
        "Let's compare a few images. Below, please use a `for` loop and `plot_one_image(data, labels, index)` to print out a few images from the different datasets.\n",
        "\n",
        "**Do you notice any differences in the datasets?**\n",
        "\n",
        "\n"
      ]
    },
    {
      "cell_type": "code",
      "metadata": {
        "id": "qIXblKdjSnCe",
        "cellView": "both",
        "colab": {
          "base_uri": "https://localhost:8080/",
          "height": 1000
        },
        "outputId": "4f9b07d2-fe64-42fe-9ca7-8c029dca5762"
      },
      "source": [
        "#YOUR CODE HERE\n",
        "for i in range(5):\n",
        "  plot_one_image(field_data, field_labels, i)\n",
        "for i in range (5):\n",
        "  plot_one_image(train_data, train_labels, i)\n",
        "for i in range (5):\n",
        "  plot_one_image(test_data, test_labels, i)\n",
        "### END CODE"
      ],
      "execution_count": null,
      "outputs": [
        {
          "output_type": "stream",
          "name": "stdout",
          "text": [
            "Label: 1.0\n"
          ]
        },
        {
          "output_type": "display_data",
          "data": {
            "text/plain": [
              "<Figure size 432x288 with 1 Axes>"
            ],
            "image/png": "[encoded data removed]"
          },
          "metadata": {
            "needs_background": "light"
          }
        },
        {
          "output_type": "stream",
          "name": "stdout",
          "text": [
            "Label: 1.0\n"
          ]
        },
        {
          "output_type": "display_data",
          "data": {
            "text/plain": [
              "<Figure size 432x288 with 1 Axes>"
            ],
            "image/png": "[encoded data removed]"
          },
          "metadata": {
            "needs_background": "light"
          }
        },
        {
          "output_type": "stream",
          "name": "stdout",
          "text": [
            "Label: 0.0\n"
          ]
        },
        {
          "output_type": "display_data",
          "data": {
            "text/plain": [
              "<Figure size 432x288 with 1 Axes>"
            ],
            "image/png": "[encoded data removed]"
          },
          "metadata": {
            "needs_background": "light"
          }
        },
        {
          "output_type": "stream",
          "name": "stdout",
          "text": [
            "Label: 0.0\n"
          ]
        },
        {
          "output_type": "display_data",
          "data": {
            "text/plain": [
              "<Figure size 432x288 with 1 Axes>"
            ],
            "image/png": "[encoded data removed]"
          },
          "metadata": {
            "needs_background": "light"
          }
        },
        {
          "output_type": "stream",
          "name": "stdout",
          "text": [
            "Label: 0.0\n"
          ]
        },
        {
          "output_type": "display_data",
          "data": {
            "text/plain": [
              "<Figure size 432x288 with 1 Axes>"
            ],
            "image/png": "[encoded data removed]"
          },
          "metadata": {
            "needs_background": "light"
          }
        },
        {
          "output_type": "stream",
          "name": "stdout",
          "text": [
            "Label: 0.0\n"
          ]
        },
        {
          "output_type": "display_data",
          "data": {
            "text/plain": [
              "<Figure size 432x288 with 1 Axes>"
            ],
            "image/png": "[encoded data removed]"
          },
          "metadata": {
            "needs_background": "light"
          }
        },
        {
          "output_type": "stream",
          "name": "stdout",
          "text": [
            "Label: 0.0\n"
          ]
        },
        {
          "output_type": "display_data",
          "data": {
            "text/plain": [
              "<Figure size 432x288 with 1 Axes>"
            ],
            "image/png": "[encoded data removed]"
          },
          "metadata": {
            "needs_background": "light"
          }
        },
        {
          "output_type": "stream",
          "name": "stdout",
          "text": [
            "Label: 1.0\n"
          ]
        },
        {
          "output_type": "display_data",
          "data": {
            "text/plain": [
              "<Figure size 432x288 with 1 Axes>"
            ],
            "image/png": "[encoded data removed]"
          },
          "metadata": {
            "needs_background": "light"
          }
        },
        {
          "output_type": "stream",
          "name": "stdout",
          "text": [
            "Label: 0.0\n"
          ]
        },
        {
          "output_type": "display_data",
          "data": {
            "text/plain": [
              "<Figure size 432x288 with 1 Axes>"
            ],
            "image/png": "[encoded data removed]"
          },
          "metadata": {
            "needs_background": "light"
          }
        },
        {
          "output_type": "stream",
          "name": "stdout",
          "text": [
            "Label: 1.0\n"
          ]
        },
        {
          "output_type": "display_data",
          "data": {
            "text/plain": [
              "<Figure size 432x288 with 1 Axes>"
            ],
            "image/png": "[encoded data removed]"
          },
          "metadata": {
            "needs_background": "light"
          }
        },
        {
          "output_type": "stream",
          "name": "stdout",
          "text": [
            "Label: 1.0\n"
          ]
        },
        {
          "output_type": "display_data",
          "data": {
            "text/plain": [
              "<Figure size 432x288 with 1 Axes>"
            ],
            "image/png": "[encoded data removed]"
          },
          "metadata": {
            "needs_background": "light"
          }
        },
        {
          "output_type": "stream",
          "name": "stdout",
          "text": [
            "Label: 1.0\n"
          ]
        },
        {
          "output_type": "display_data",
          "data": {
            "text/plain": [
              "<Figure size 432x288 with 1 Axes>"
            ],
            "image/png": "[encoded data removed]"
          },
          "metadata": {
            "needs_background": "light"
          }
        },
        {
          "output_type": "stream",
          "name": "stdout",
          "text": [
            "Label: 0.0\n"
          ]
        },
        {
          "output_type": "display_data",
          "data": {
            "text/plain": [
              "<Figure size 432x288 with 1 Axes>"
            ],
            "image/png": "[encoded data removed]"
          },
          "metadata": {
            "needs_background": "light"
          }
        },
        {
          "output_type": "stream",
          "name": "stdout",
          "text": [
            "Label: 0.0\n"
          ]
        },
        {
          "output_type": "display_data",
          "data": {
            "text/plain": [
              "<Figure size 432x288 with 1 Axes>"
            ],
            "image/png": "[encoded data removed]"
          },
          "metadata": {
            "needs_background": "light"
          }
        },
        {
          "output_type": "stream",
          "name": "stdout",
          "text": [
            "Label: 0.0\n"
          ]
        },
        {
          "output_type": "display_data",
          "data": {
            "text/plain": [
              "<Figure size 432x288 with 1 Axes>"
            ],
            "image/png": "[encoded data removed]"
          },
          "metadata": {
            "needs_background": "light"
          }
        }
      ]
    },
    {
      "cell_type": "markdown",
      "metadata": {
        "id": "45zKW1NjS4aV"
      },
      "source": [
        "## Instructor-Led Discussion: What is happening in our field data? \n",
        "\n",
        "Discuss in your group and with your instructor:\n",
        "\n",
        "Why is our model performance suffering? What are reasons that field data could be \"messier\"?"
      ]
    },
    {
      "cell_type": "markdown",
      "metadata": {
        "id": "1NhR3Mb0Su9U"
      },
      "source": [
        "# Milestone 2: Tools to improve your models"
      ]
    },
    {
      "cell_type": "markdown",
      "metadata": {
        "id": "yhYKVx5nTL2A"
      },
      "source": [
        "## Activity 2a"
      ]
    },
    {
      "cell_type": "markdown",
      "metadata": {
        "id": "EtnanhTdTS34"
      },
      "source": [
        "### Instructor-Led Discussion: Data Augmentation\n",
        "\n",
        "We want our model to handle a broader variety of input data. One way to do this is to **augment** our data: by intentionally making some alterations to our input data, we an train our model to handle a greater variety of outputs."
      ]
    },
    {
      "cell_type": "markdown",
      "metadata": {
        "id": "Riq7peVmkUhA"
      },
      "source": [
        "### Exercise (Coding) "
      ]
    },
    {
      "cell_type": "markdown",
      "metadata": {
        "id": "KZ-CtwWseVu_"
      },
      "source": [
        "So, how do we augment our images in Python? \n",
        "\n",
        "\n",
        "We provide custom functions for augmenting a single image. Here's one example, to rotate a single image by 40 degrees. **Experiment with changing the degrees! How can you rotate left?**"
      ]
    },
    {
      "cell_type": "code",
      "metadata": {
        "id": "AAUxFajRBeC0",
        "colab": {
          "base_uri": "https://localhost:8080/",
          "height": 554
        },
        "outputId": "16feae02-eb7c-408d-d5fa-64d52e4db646"
      },
      "source": [
        "image = train_data[0]\n",
        "plot_one_image(image) \n",
        "new_image = rotate(image, rotate = 40)\n",
        "plot_one_image(new_image)"
      ],
      "execution_count": null,
      "outputs": [
        {
          "output_type": "stream",
          "name": "stdout",
          "text": [
            "Label: \n"
          ]
        },
        {
          "output_type": "display_data",
          "data": {
            "text/plain": [
              "<Figure size 432x288 with 1 Axes>"
            ],
            "image/png": "[encoded data removed]"
          },
          "metadata": {
            "needs_background": "light"
          }
        },
        {
          "output_type": "stream",
          "name": "stdout",
          "text": [
            "Label: \n"
          ]
        },
        {
          "output_type": "display_data",
          "data": {
            "text/plain": [
              "<Figure size 432x288 with 1 Axes>"
            ],
            "image/png": "[encoded data removed]"
          },
          "metadata": {
            "needs_background": "light"
          }
        }
      ]
    },
    {
      "cell_type": "markdown",
      "metadata": {
        "id": "d1lhczlEHg5y"
      },
      "source": [
        "\n",
        "Here's some more image transformation options:\n",
        "* `rotate(image, rotate = 30)`\n",
        "* `scale(image, scale = 1.5)`\n",
        "* `shear(image, shear = 20)`\n",
        "* `flip_left_right(image, prob = 0.5)`\n",
        "* `flip_up_down(image, prob = 0.5)`\n",
        "* `remove_color(data, channel = 0)`\n",
        "\n",
        "Try it out below!"
      ]
    },
    {
      "cell_type": "code",
      "metadata": {
        "id": "f5FcaWcBHkTj",
        "colab": {
          "base_uri": "https://localhost:8080/",
          "height": 242
        },
        "outputId": "d55d8366-2263-42d9-b34a-5182d108100f"
      },
      "source": [
        "#YOUR CODE HERE\n",
        "image = train_data[0]\n",
        "plot_one_image(image) \n",
        "new_image = shear(image, shear = 20)\n",
        "plot_one_image(new_image)"
      ],
      "execution_count": null,
      "outputs": [
        {
          "output_type": "error",
          "ename": "NameError",
          "evalue": "ignored",
          "traceback": [
            "\u001b[0;31m---------------------------------------------------------------------------\u001b[0m",
            "\u001b[0;31mNameError\u001b[0m                                 Traceback (most recent call last)",
            "\u001b[0;32m<ipython-input-1-dc2acc24da80>\u001b[0m in \u001b[0;36m<module>\u001b[0;34m()\u001b[0m\n\u001b[1;32m      1\u001b[0m \u001b[0;31m#YOUR CODE HERE\u001b[0m\u001b[0;34m\u001b[0m\u001b[0;34m\u001b[0m\u001b[0;34m\u001b[0m\u001b[0m\n\u001b[0;32m----> 2\u001b[0;31m \u001b[0mimage\u001b[0m \u001b[0;34m=\u001b[0m \u001b[0mtrain_data\u001b[0m\u001b[0;34m[\u001b[0m\u001b[0;36m0\u001b[0m\u001b[0;34m]\u001b[0m\u001b[0;34m\u001b[0m\u001b[0;34m\u001b[0m\u001b[0m\n\u001b[0m\u001b[1;32m      3\u001b[0m \u001b[0mplot_one_image\u001b[0m\u001b[0;34m(\u001b[0m\u001b[0mimage\u001b[0m\u001b[0;34m)\u001b[0m\u001b[0;34m\u001b[0m\u001b[0;34m\u001b[0m\u001b[0m\n\u001b[1;32m      4\u001b[0m \u001b[0mnew_image\u001b[0m \u001b[0;34m=\u001b[0m \u001b[0mshear\u001b[0m\u001b[0;34m(\u001b[0m\u001b[0mimage\u001b[0m\u001b[0;34m,\u001b[0m \u001b[0mshear\u001b[0m \u001b[0;34m=\u001b[0m \u001b[0;36m20\u001b[0m\u001b[0;34m)\u001b[0m\u001b[0;34m\u001b[0m\u001b[0;34m\u001b[0m\u001b[0m\n\u001b[1;32m      5\u001b[0m \u001b[0mplot_one_image\u001b[0m\u001b[0;34m(\u001b[0m\u001b[0mnew_image\u001b[0m\u001b[0;34m)\u001b[0m\u001b[0;34m\u001b[0m\u001b[0;34m\u001b[0m\u001b[0m\n",
            "\u001b[0;31mNameError\u001b[0m: name 'train_data' is not defined"
          ]
        }
      ]
    },
    {
      "cell_type": "markdown",
      "metadata": {
        "id": "7LN3ZQkTBdND"
      },
      "source": [
        "Now, experiment with these options!\n",
        "\n",
        "**Share some of your cool augmentation strategies with the class! You can definitely use multiple augmentation techniques for each image!**"
      ]
    },
    {
      "cell_type": "code",
      "metadata": {
        "id": "EOEkYlf5gquP"
      },
      "source": [
        "### YOUR CODE HERE\n",
        "image = train_data[0]\n",
        "plot_one_image(image) \n",
        "new_image = flip_up_down(image, prob = 0.5)\n",
        "plot_one_image(new_image)\n",
        "### END CODE"
      ],
      "execution_count": null,
      "outputs": []
    },
    {
      "cell_type": "markdown",
      "metadata": {
        "id": "ihblU152Wapd"
      },
      "source": [
        "## Activity 2b. "
      ]
    },
    {
      "cell_type": "markdown",
      "metadata": {
        "id": "bfVDv1P3abu_"
      },
      "source": [
        "### Exercise (Coding)"
      ]
    },
    {
      "cell_type": "markdown",
      "metadata": {
        "id": "gL9yThE1IZ79"
      },
      "source": [
        "Now, let's create some augmented datasets of our own! We'll combine the augmented data with the original. Here's how you make an augmented dataset:"
      ]
    },
    {
      "cell_type": "code",
      "metadata": {
        "id": "e3kx7OWyIh4k"
      },
      "source": [
        "train_data_rotated_10 = rotate(train_data, rotate=10)"
      ],
      "execution_count": null,
      "outputs": []
    },
    {
      "cell_type": "markdown",
      "metadata": {
        "id": "JPZ5862WI-rP"
      },
      "source": [
        "Please make some more augmented datasets below!"
      ]
    },
    {
      "cell_type": "code",
      "metadata": {
        "id": "ZSa-lSC4JDxO"
      },
      "source": [
        "train_data_rotated_10 = rotate(train_data, rotate=10)\n",
        "train_data_rotated_neg10 = rotate(train_data, rotate=-10)\n",
        "train_data_shear_20 = shear(train_data, shear = 20)\n",
        "###YOUR CODE HERE to create more augmented datasets"
      ],
      "execution_count": null,
      "outputs": []
    },
    {
      "cell_type": "markdown",
      "metadata": {
        "id": "eNX_jC9eIJFL"
      },
      "source": [
        "\n",
        "\n",
        "Finally, to combine your original train data with your augmented data, you can use the `combine_data` function like this:\n",
        "```\n",
        "all_data, all_labels = combine_data([data1, data2], [labels1, labels2])\n",
        "``` \n",
        "\n",
        "(You can include as many datasets as you like in the list. What should you use for the new labels?)\n",
        "\n",
        "Please create `all_data` and `all_labels` below:"
      ]
    },
    {
      "cell_type": "code",
      "metadata": {
        "id": "4C7yqCoAW5qs"
      },
      "source": [
        "#YOUR CODE HERE\n",
        "all_data, all_labels = combine_data([train_data, train_data_rotated_10, train_data_rotated_neg10, train_data_shear_20], [train_labels, train_labels, train_labels, train_labels])\n",
        "### END CODE"
      ],
      "execution_count": null,
      "outputs": []
    },
    {
      "cell_type": "markdown",
      "metadata": {
        "id": "n4y0BFbJYf1k"
      },
      "source": [
        "Once you've created your augmented data...\n",
        "1. Train your CNN on `all_data` \n",
        "2. Choose the best epoch based on the `test_data`! \n",
        "3. Load your model up and score it on `field_data`. \n",
        "\n",
        "**Your challenge is to find a set of augmentations that improves your model's performance on the `field_data`! Share your augmentations and performances with the class! Try as many or as few augmentations as you want.**\n",
        "\n",
        "**Remember to record an average of 5 newly initialized CNNs. This is important because CNN weights will be initialized differently in each run!**"
      ]
    },
    {
      "cell_type": "code",
      "metadata": {
        "id": "v453qnBB-Y9e",
        "colab": {
          "base_uri": "https://localhost:8080/"
        },
        "outputId": "ea52defb-9297-4b65-fa6f-2e7c0b8b64ce"
      },
      "source": [
        "train_data, train_labels = get_train_data()\n",
        "test_data, test_labels   = get_test_data()\n",
        "field_data, field_labels   = get_field_data()\n",
        "\n",
        "### YOUR CODE HERE\n",
        "cnn = CNNClassifier(num_hidden_layers = 2)\n",
        "x = cnn.fit(all_data, all_labels, epochs = 50, validation_data = (test_data, test_labels), shuffle = True, callbacks = [monitor])\n",
        "print(x)\n",
        "y = (cnn.predict(field_data) > 0.5).astype(\"int32\")\n",
        "print(accuracy_score(field_labels,y))\n",
        "\n",
        "### END CODE"
      ],
      "execution_count": null,
      "outputs": [
        {
          "output_type": "stream",
          "name": "stdout",
          "text": [
            "Epoch 1/50\n",
            "250/250 [==============================] - 6s 21ms/step - loss: 1.9781 - accuracy: 0.5579 - val_loss: 1.9230 - val_accuracy: 0.8375\n",
            "Epoch 2/50\n",
            "250/250 [==============================] - 5s 20ms/step - loss: 1.8841 - accuracy: 0.6741 - val_loss: 1.8308 - val_accuracy: 0.7300\n",
            "Epoch 3/50\n",
            "250/250 [==============================] - 5s 20ms/step - loss: 1.7942 - accuracy: 0.7315 - val_loss: 1.7347 - val_accuracy: 0.8325\n",
            "Epoch 4/50\n",
            "250/250 [==============================] - 5s 20ms/step - loss: 1.7037 - accuracy: 0.7750 - val_loss: 1.6394 - val_accuracy: 0.8525\n",
            "Epoch 5/50\n",
            "250/250 [==============================] - 5s 20ms/step - loss: 1.6197 - accuracy: 0.8018 - val_loss: 1.5600 - val_accuracy: 0.8550\n",
            "Epoch 6/50\n",
            "250/250 [==============================] - 5s 20ms/step - loss: 1.5413 - accuracy: 0.8230 - val_loss: 1.4929 - val_accuracy: 0.8525\n",
            "Epoch 7/50\n",
            "250/250 [==============================] - 5s 20ms/step - loss: 1.4663 - accuracy: 0.8386 - val_loss: 1.4238 - val_accuracy: 0.8700\n",
            "Epoch 8/50\n",
            "250/250 [==============================] - 5s 20ms/step - loss: 1.4056 - accuracy: 0.8487 - val_loss: 1.3732 - val_accuracy: 0.8550\n",
            "Epoch 9/50\n",
            "250/250 [==============================] - 5s 20ms/step - loss: 1.3409 - accuracy: 0.8625 - val_loss: 1.3108 - val_accuracy: 0.8750\n",
            "Epoch 10/50\n",
            "250/250 [==============================] - 5s 20ms/step - loss: 1.2812 - accuracy: 0.8792 - val_loss: 1.2636 - val_accuracy: 0.8775\n",
            "Epoch 11/50\n",
            "250/250 [==============================] - 5s 20ms/step - loss: 1.2337 - accuracy: 0.8864 - val_loss: 1.2586 - val_accuracy: 0.8500\n",
            "Epoch 12/50\n",
            "250/250 [==============================] - 5s 20ms/step - loss: 1.1925 - accuracy: 0.8900 - val_loss: 1.1941 - val_accuracy: 0.8825\n",
            "Epoch 13/50\n",
            "250/250 [==============================] - 5s 20ms/step - loss: 1.1481 - accuracy: 0.8913 - val_loss: 1.1660 - val_accuracy: 0.8775\n",
            "Epoch 14/50\n",
            "250/250 [==============================] - 5s 20ms/step - loss: 1.1124 - accuracy: 0.8995 - val_loss: 1.1364 - val_accuracy: 0.8800\n",
            "Epoch 15/50\n",
            "250/250 [==============================] - 5s 20ms/step - loss: 1.0766 - accuracy: 0.9049 - val_loss: 1.1046 - val_accuracy: 0.8775\n",
            "Epoch 16/50\n",
            "250/250 [==============================] - 5s 19ms/step - loss: 1.0442 - accuracy: 0.9097 - val_loss: 1.0966 - val_accuracy: 0.8600\n",
            "Epoch 17/50\n",
            "250/250 [==============================] - 6s 23ms/step - loss: 1.0097 - accuracy: 0.9122 - val_loss: 1.1394 - val_accuracy: 0.8325\n",
            "Epoch 18/50\n",
            "250/250 [==============================] - 5s 20ms/step - loss: 0.9837 - accuracy: 0.9144 - val_loss: 1.1075 - val_accuracy: 0.8400\n",
            "Epoch 19/50\n",
            "250/250 [==============================] - 5s 20ms/step - loss: 0.9502 - accuracy: 0.9143 - val_loss: 1.1027 - val_accuracy: 0.8350\n",
            "Epoch 20/50\n",
            "250/250 [==============================] - 5s 20ms/step - loss: 0.9254 - accuracy: 0.9214 - val_loss: 1.0266 - val_accuracy: 0.8625\n",
            "Epoch 21/50\n",
            "250/250 [==============================] - 5s 19ms/step - loss: 0.8974 - accuracy: 0.9236 - val_loss: 0.9747 - val_accuracy: 0.8775\n",
            "Epoch 22/50\n",
            "250/250 [==============================] - 5s 20ms/step - loss: 0.8792 - accuracy: 0.9221 - val_loss: 1.0816 - val_accuracy: 0.8175\n",
            "Epoch 23/50\n",
            "250/250 [==============================] - 5s 19ms/step - loss: 0.8593 - accuracy: 0.9243 - val_loss: 1.0555 - val_accuracy: 0.8250\n",
            "Epoch 24/50\n",
            "250/250 [==============================] - 5s 19ms/step - loss: 0.8359 - accuracy: 0.9260 - val_loss: 1.0394 - val_accuracy: 0.8225\n",
            "Epoch 25/50\n",
            "250/250 [==============================] - 5s 19ms/step - loss: 0.8104 - accuracy: 0.9309 - val_loss: 0.9720 - val_accuracy: 0.8500\n",
            "Epoch 26/50\n",
            "250/250 [==============================] - 5s 20ms/step - loss: 0.7961 - accuracy: 0.9339 - val_loss: 1.1158 - val_accuracy: 0.7850\n",
            "Epoch 27/50\n",
            "250/250 [==============================] - 5s 19ms/step - loss: 0.7735 - accuracy: 0.9362 - val_loss: 1.0154 - val_accuracy: 0.8275\n",
            "Epoch 28/50\n",
            "250/250 [==============================] - 5s 19ms/step - loss: 0.7560 - accuracy: 0.9339 - val_loss: 0.9602 - val_accuracy: 0.8375\n",
            "Epoch 29/50\n",
            "250/250 [==============================] - 5s 19ms/step - loss: 0.7452 - accuracy: 0.9339 - val_loss: 1.0128 - val_accuracy: 0.8200\n",
            "Epoch 30/50\n",
            "250/250 [==============================] - 5s 19ms/step - loss: 0.7223 - accuracy: 0.9373 - val_loss: 0.9088 - val_accuracy: 0.8400\n",
            "Epoch 31/50\n",
            "250/250 [==============================] - 5s 19ms/step - loss: 0.7141 - accuracy: 0.9346 - val_loss: 0.9140 - val_accuracy: 0.8375\n",
            "Epoch 32/50\n",
            "250/250 [==============================] - 5s 19ms/step - loss: 0.6975 - accuracy: 0.9379 - val_loss: 1.0088 - val_accuracy: 0.8100\n",
            "Epoch 33/50\n",
            "250/250 [==============================] - 5s 19ms/step - loss: 0.6824 - accuracy: 0.9398 - val_loss: 0.9082 - val_accuracy: 0.8350\n",
            "Epoch 34/50\n",
            "250/250 [==============================] - 5s 19ms/step - loss: 0.6675 - accuracy: 0.9383 - val_loss: 0.9547 - val_accuracy: 0.8100\n",
            "Epoch 35/50\n",
            "250/250 [==============================] - 5s 19ms/step - loss: 0.6518 - accuracy: 0.9415 - val_loss: 1.0273 - val_accuracy: 0.7950\n",
            "Epoch 36/50\n",
            "250/250 [==============================] - 5s 19ms/step - loss: 0.6386 - accuracy: 0.9430 - val_loss: 0.9481 - val_accuracy: 0.8050\n",
            "Epoch 37/50\n",
            "250/250 [==============================] - 5s 19ms/step - loss: 0.6311 - accuracy: 0.9433 - val_loss: 0.9588 - val_accuracy: 0.8050\n",
            "Epoch 38/50\n",
            "250/250 [==============================] - 5s 19ms/step - loss: 0.6182 - accuracy: 0.9411 - val_loss: 0.8684 - val_accuracy: 0.8275\n",
            "Epoch 39/50\n",
            "250/250 [==============================] - 5s 19ms/step - loss: 0.6112 - accuracy: 0.9417 - val_loss: 0.9456 - val_accuracy: 0.8050\n",
            "Epoch 40/50\n",
            "250/250 [==============================] - 5s 19ms/step - loss: 0.6010 - accuracy: 0.9401 - val_loss: 1.0556 - val_accuracy: 0.7600\n",
            "Epoch 41/50\n",
            "250/250 [==============================] - 5s 19ms/step - loss: 0.5859 - accuracy: 0.9442 - val_loss: 0.8390 - val_accuracy: 0.8250\n",
            "Epoch 42/50\n",
            "250/250 [==============================] - 5s 19ms/step - loss: 0.5806 - accuracy: 0.9463 - val_loss: 1.1131 - val_accuracy: 0.7475\n",
            "Epoch 43/50\n",
            "250/250 [==============================] - 5s 19ms/step - loss: 0.5685 - accuracy: 0.9436 - val_loss: 0.9680 - val_accuracy: 0.7850\n",
            "Epoch 44/50\n",
            "250/250 [==============================] - 5s 19ms/step - loss: 0.5581 - accuracy: 0.9481 - val_loss: 0.9497 - val_accuracy: 0.7875\n",
            "Epoch 45/50\n",
            "250/250 [==============================] - 5s 19ms/step - loss: 0.5532 - accuracy: 0.9457 - val_loss: 1.0236 - val_accuracy: 0.7650\n",
            "Epoch 46/50\n",
            "250/250 [==============================] - 5s 19ms/step - loss: 0.5455 - accuracy: 0.9480 - val_loss: 1.0135 - val_accuracy: 0.7650\n",
            "Epoch 47/50\n",
            "250/250 [==============================] - 5s 19ms/step - loss: 0.5355 - accuracy: 0.9473 - val_loss: 1.0477 - val_accuracy: 0.7600\n",
            "Epoch 48/50\n",
            "250/250 [==============================] - 5s 19ms/step - loss: 0.5282 - accuracy: 0.9488 - val_loss: 0.9853 - val_accuracy: 0.7650\n",
            "Epoch 49/50\n",
            "250/250 [==============================] - 5s 19ms/step - loss: 0.5199 - accuracy: 0.9496 - val_loss: 1.0525 - val_accuracy: 0.7600\n",
            "Epoch 50/50\n",
            "250/250 [==============================] - 5s 19ms/step - loss: 0.5142 - accuracy: 0.9486 - val_loss: 0.9898 - val_accuracy: 0.7600\n",
            "<keras.callbacks.History object at 0x7f7520205e50>\n",
            "0.785\n"
          ]
        }
      ]
    },
    {
      "cell_type": "markdown",
      "metadata": {
        "id": "zz1pSff8xXWk"
      },
      "source": [
        "## Instructor-Led Discussion: Why does data augmentation improve average performance?"
      ]
    },
    {
      "cell_type": "markdown",
      "metadata": {
        "id": "_LkaHktp2L01"
      },
      "source": [
        "![](https://storage.googleapis.com/kaggle-competitions/kaggle/10338/logos/header.png)"
      ]
    },
    {
      "cell_type": "markdown",
      "metadata": {
        "id": "NE5Xu9QRKydm"
      },
      "source": [
        "##Congratulations on completing your model!\n",
        "\n",
        "By augmenting your data, you've (hopefully) gotten your models working better, even on messy field data!\n",
        "\n",
        "As a further challenge, you can return to any point in the challenge and try to improve:\n",
        "- Try looking at the CNN code in the hidden cell at the top. Can you change the parameters to reduce overfitting?\n",
        "- Try out different classifiers from Scikit-learn with augmented data.\n",
        "- Create new combinations of augmentations for your data.\n",
        "- Whatever ideas you come up with!"
      ]
    }
  ]
}